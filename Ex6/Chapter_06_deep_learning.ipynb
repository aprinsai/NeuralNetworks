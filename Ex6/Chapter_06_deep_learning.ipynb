{
 "cells": [
  {
   "cell_type": "markdown",
   "metadata": {},
   "source": [
    "# Chapter 6\n",
    "## Deep learning\n",
    "\n",
    "\n",
    "    Hand-in bug-free (try \"Kernel\" > \"Restart & Run All\") and including all (textual as well as figural) output via Blackboard before the deadline (see Blackboard).\n",
    "\n",
    "Learning goals:\n",
    "1. Get familiar with a state-of-the-art framework for deep learning\n",
    "1. Implement and run a convolutional neural network\n",
    "1. See what convolution does"
   ]
  },
  {
   "cell_type": "code",
   "execution_count": 1,
   "metadata": {
    "collapsed": true
   },
   "outputs": [],
   "source": [
    "% matplotlib inline\n",
    "import matplotlib.pyplot as plt\n",
    "import numpy as np\n",
    "import chainer\n",
    "from chainer import cuda, Function, gradient_check, report, training, utils, Variable\n",
    "from chainer import datasets, iterators, optimizers, serializers\n",
    "from chainer import Link, Chain, ChainList\n",
    "import chainer.functions as F\n",
    "import chainer.links as L\n",
    "from chainer.training import extensions\n",
    "import os, json\n",
    "import scipy.signal as ss"
   ]
  },
  {
   "cell_type": "code",
   "execution_count": 2,
   "metadata": {
    "collapsed": true
   },
   "outputs": [],
   "source": [
    "mlp_output_folder = \"chainermlp/\"\n",
    "cnn_output_folder = \"chainercnn/\"\n",
    "\n",
    "def get_losses(output_folder):\n",
    "\n",
    "    with open(os.path.join(output_folder, \"log\")) as data_file:\n",
    "        data = json.load(data_file)\n",
    "\n",
    "    training_loss = map(lambda x: x[\"main/loss\"], data)\n",
    "    validation_loss = map(lambda x: x[\"validation/main/loss\"], data)\n",
    "    \n",
    "    return training_loss, validation_loss"
   ]
  },
  {
   "cell_type": "markdown",
   "metadata": {
    "collapsed": true
   },
   "source": [
    "When working on a state-of-the-art neural network project you would rely on one of the various neural network frameworks that are available, instead of implementing core functionality by yourself. In this exercise you will work on implementing an MLP and a convolutional neural network in the Chainer framework. At the moment we use this framework for most of the work in our group as it is flexible and has quite intuitive and pythonic syntax.  \n",
    "\n",
    "Due to the popularity of deep learning various [Neural Network Frameworks](http://chainer.readthedocs.io/en/latest/comparison.html) exist, and it is unclear whether one of them will \"win\". Among those mentioned, Chainer and PyTorch (which is quite popular right now) have very similar syntax, and in fact PyTorch started as a fork from Chainer, reimplementing core functionality such as autograd in C++. This makes it faster, but less versatile. Google is developing and promoting the TensorFlow framework, which is fast for statically defined neural network flows. \n",
    "\n",
    "\n",
    "In this assignment you will follow a Chainer tutorial for implementing a standard multi-layer perceptron and a convolutional neural network. You will first copy the tutorial code and then make several adaptations. For a few steps you should consult the documentation or example code to check out how to implement them. "
   ]
  },
  {
   "cell_type": "markdown",
   "metadata": {},
   "source": [
    "### Exercise 1 (3 points)"
   ]
  },
  {
   "cell_type": "markdown",
   "metadata": {},
   "source": [
    "Read the tutorial at https://docs.chainer.org/en/stable/tutorial/basic.html. As you go along, transfer the code for the Multi-Layer Perceptron example on MNIST into the notebook (and try running it). Use the variant that makes use of the Trainer framework, i.e. you do not need to handle the gradients yourself. \n",
    "\n",
    "Change the MLP training code so that it is similar to the MLP we implemented in the MLP exercise, i.e. it should use: \n",
    "\n",
    "1. A single hidden layer of 16 units (that is, two weight layers)\n",
    "1. ReLU activation function\n",
    "1. Stochastic Gradient Descent with a learning rate of 0.001 as optimizer\n",
    "1. Training should do 50 iterations over the training set\n",
    "\n",
    "For **evaluating the model**, set up the `trainer` object as follows: \n",
    "1. When initializing the `trainer` object, set the output folder to be `mlp_output_folder`.\n",
    "1. Extend your `trainer` object with an `Evaluator` object that evaluates your `model` on the test set. \n",
    "1. Extend your `trainer` object with the `LogReport()` object. \n",
    "1. For printing the current model performance underneath the cell, extend the `trainer` object with a `PrintReport` object. Use the keys `\"epoch\"`, `\"main/accuracy\"`, `\"validation/main/accuracy\"`,  `\"main/loss\"` and `\"validation/main/loss\"`.\n",
    "1. For plotting the accuracy and losses over epochs, extend the `trainer` object with a `PlotReport` object. Use the same keys as for `PrintReport` except `\"epoch\"`. Set the file name to `mlp_plot.png`.\n",
    "\n",
    "Embed the generated `mlp_plot.png` underneath your code via `<img src='chainermlp/mlp_plot.png'>`. **Please additionally attach `mlp_plot.png` to your submission.**"
   ]
  },
  {
   "cell_type": "code",
   "execution_count": 3,
   "metadata": {},
   "outputs": [
    {
     "name": "stdout",
     "output_type": "stream",
     "text": [
      "Shape of a single example: (784L,)\n"
     ]
    }
   ],
   "source": [
    "# Load the MNIST data set as 784-length vectors (default): \n",
    "train, test = datasets.get_mnist()\n",
    "print \"Shape of a single example:\", train[0][0].shape"
   ]
  },
  {
   "cell_type": "markdown",
   "metadata": {},
   "source": [
    "### Solution 1"
   ]
  },
  {
   "cell_type": "code",
   "execution_count": 4,
   "metadata": {},
   "outputs": [
    {
     "name": "stdout",
     "output_type": "stream",
     "text": [
      "epoch       main/accuracy  validation/main/accuracy  main/loss   validation/main/loss\n",
      "1           0.2378         0.3112                    2.17706     2.05927               \n",
      "2           0.371767       0.4288                    1.95074     1.82965               \n",
      "3           0.5056         0.5743                    1.72383     1.59569               \n",
      "4           0.624983       0.663                     1.49498     1.36971               \n",
      "5           0.698167       0.7224                    1.2857      1.16977               \n",
      "6           0.74735        0.763                     1.10477     1.00539               \n",
      "7           0.777867       0.7933                    0.963104    0.881586              \n",
      "8           0.798733       0.8116                    0.855885    0.789032              \n",
      "9           0.813317       0.8239                    0.774961    0.71852               \n",
      "10          0.82455        0.8329                    0.713325    0.664763              \n",
      "11          0.8335         0.8408                    0.66523     0.62261               \n",
      "12          0.840783       0.8477                    0.626749    0.588131              \n",
      "13          0.847033       0.8554                    0.595191    0.559366              \n",
      "14          0.851683       0.8603                    0.568649    0.53513               \n",
      "15          0.856917       0.8642                    0.546002    0.514691              \n",
      "16          0.8609         0.8685                    0.526349    0.496425              \n",
      "17          0.864767       0.8724                    0.509135    0.480605              \n",
      "18          0.868467       0.8753                    0.493789    0.466318              \n",
      "19          0.871733       0.8787                    0.480111    0.453691              \n",
      "20          0.874067       0.8818                    0.467792    0.442239              \n",
      "21          0.876983       0.8839                    0.456636    0.431908              \n",
      "22          0.879267       0.8879                    0.446507    0.422522              \n",
      "23          0.881567       0.8895                    0.437237    0.414152              \n",
      "24          0.883633       0.8897                    0.42876     0.406415              \n",
      "25          0.885067       0.8909                    0.420958    0.399699              \n",
      "26          0.886617       0.8937                    0.413828    0.392579              \n",
      "27          0.887967       0.8954                    0.407066    0.387118              \n",
      "28          0.889417       0.8963                    0.400952    0.381115              \n",
      "29          0.890717       0.8979                    0.395127    0.375762              \n",
      "30          0.892167       0.8985                    0.389879    0.371046              \n",
      "31          0.893317       0.8992                    0.384815    0.366564              \n",
      "32          0.894133       0.9006                    0.380124    0.362352              \n",
      "33          0.8953         0.9013                    0.375688    0.358048              \n",
      "34          0.896317       0.9013                    0.371431    0.354988              \n",
      "35          0.89675        0.9026                    0.367536    0.351248              \n",
      "36          0.8975         0.9033                    0.363826    0.348262              \n",
      "37          0.898317       0.9046                    0.360247    0.344256              \n",
      "38          0.899017       0.9044                    0.356906    0.341516              \n",
      "39          0.899667       0.9053                    0.353679    0.339258              \n",
      "40          0.900583       0.9053                    0.350663    0.33633               \n",
      "41          0.9016         0.9064                    0.347714    0.333402              \n",
      "42          0.902183       0.9063                    0.344921    0.33135               \n",
      "43          0.903033       0.9072                    0.342296    0.328593              \n",
      "44          0.904          0.9077                    0.339689    0.326312              \n",
      "45          0.904283       0.909                     0.337275    0.32423               \n",
      "46          0.905183       0.9097                    0.334936    0.322234              \n",
      "47          0.905683       0.9099                    0.332604    0.320248              \n",
      "48          0.906017       0.9108                    0.330385    0.318341              \n",
      "49          0.90675        0.9115                    0.328282    0.316151              \n",
      "50          0.907283       0.9115                    0.326262    0.314388              \n"
     ]
    }
   ],
   "source": [
    "# Your MLP, including output\n",
    "class MLP(Chain):\n",
    "    def __init__(self, n_units, n_out):\n",
    "        super(MLP, self).__init__()\n",
    "        with self.init_scope():\n",
    "            # the size of the inputs to each layer will be inferred\n",
    "            self.l1 = L.Linear(None, n_units)  # n_in -> n_units\n",
    "            self.l2 = L.Linear(None, n_units)  # n_units -> n_units\n",
    "            self.l3 = L.Linear(None, n_out)    # n_units -> n_out\n",
    "\n",
    "    def __call__(self, x):\n",
    "        h1 = F.relu(self.l1(x))\n",
    "        h2 = F.relu(self.l2(h1))\n",
    "        y = self.l3(h2)\n",
    "        return y\n",
    "\n",
    "class Classifier(Chain):\n",
    "    def __init__(self, predictor):\n",
    "        super(Classifier, self).__init__()\n",
    "        with self.init_scope():\n",
    "            self.predictor = predictor\n",
    "\n",
    "    def __call__(self, x, t):\n",
    "        y = self.predictor(x)\n",
    "        loss = F.softmax_cross_entropy(y, t)\n",
    "        accuracy = F.accuracy(y, t)\n",
    "        report({'loss': loss, 'accuracy': accuracy}, self)\n",
    "        return loss\n",
    "    \n",
    "model = L.Classifier(MLP(16, 10))  \n",
    "optimizer = optimizers.SGD(0.001)\n",
    "optimizer.setup(model)\n",
    "\n",
    "train_iter = iterators.SerialIterator(train, batch_size=100, shuffle=True)\n",
    "test_iter = iterators.SerialIterator(test, batch_size=100, repeat=False, shuffle=False)\n",
    "\n",
    "updater = training.StandardUpdater(train_iter, optimizer)\n",
    "trainer = training.Trainer(updater, (50, 'epoch'), out=mlp_output_folder)\n",
    "\n",
    "trainer.extend(extensions.Evaluator(test_iter, model))\n",
    "trainer.extend(extensions.LogReport())\n",
    "trainer.extend(extensions.PrintReport([\"epoch\", \"main/accuracy\", \"validation/main/accuracy\", \"main/loss\", \"validation/main/loss\"]))\n",
    "trainer.extend(extensions.PlotReport([\"main/accuracy\", \"validation/main/accuracy\", \"main/loss\", \"validation/main/loss\"],'epoch', file_name='mlp_plot.png'))\n",
    "trainer.run()"
   ]
  },
  {
   "cell_type": "markdown",
   "metadata": {
    "collapsed": true
   },
   "source": [
    "Embed `mlp_plot.png`: \n",
    "<img src='chainermlp/mlp_plot.png'>"
   ]
  },
  {
   "cell_type": "markdown",
   "metadata": {},
   "source": [
    "### Exercise 2  (0.5 points)"
   ]
  },
  {
   "cell_type": "markdown",
   "metadata": {
    "collapsed": true
   },
   "source": [
    "The input layer weights that the MLP has learned can be found in `model.predictor.l1.W.data`. Plot them below (as we did in the MLP and autoencoder exercises). "
   ]
  },
  {
   "cell_type": "markdown",
   "metadata": {},
   "source": [
    "### Solution 2"
   ]
  },
  {
   "cell_type": "code",
   "execution_count": 5,
   "metadata": {},
   "outputs": [
    {
     "data": {
      "image/png": "[encoded data removed]",
      "text/plain": [
       "<matplotlib.figure.Figure at 0xd4123c8>"
      ]
     },
     "metadata": {},
     "output_type": "display_data"
    }
   ],
   "source": [
    "# Plot the weights\n",
    "W1 = model.predictor.l1.W.data\n",
    "fig, ax = plt.subplots(16,1, figsize=(20, 40))\n",
    "i = 0\n",
    "for im in ax:\n",
    "    im.imshow(W1[i,:].reshape((28,28)), cmap=\"gray\")\n",
    "    im.set_xticks([],[])\n",
    "    im.set_yticks([],[])\n",
    "    i+=1\n",
    "\n",
    "    "
   ]
  },
  {
   "cell_type": "markdown",
   "metadata": {},
   "source": [
    "### Exercise 3: Convolution with hand-made kernels (1 point)\n",
    "In convolutional neural networks we use a mathematical operator between two functions $f$ and $g$ called [*convolution*](https://en.wikipedia.org/wiki/Convolution). In terms of images, one could intuitively think of $f$ as an image, and $g$ as a filter kernel (i.e., a receptive field). For images we need to use 2D convolution: \n",
    "\n",
    "$$f(x, y) \\ast g(x, y) = \\sum^N_{i=-N}\\sum^N_{j=-N} f(x, y)g(x-i, y-j)$$\n",
    "\n",
    "Intuitively, the kernel $g$ is applied on all spatial locations of $f$. You could think of $g$ as having weights that represent how it singles out local input. Usually there are various of these filter kernels $g$, scanning the image for many possible features. \n",
    "\n",
    "In this exercise you will perform a simple convolution on an image. We first choose an image: "
   ]
  },
  {
   "cell_type": "code",
   "execution_count": 6,
   "metadata": {},
   "outputs": [
    {
     "data": {
      "text/plain": [
       "[]"
      ]
     },
     "execution_count": 6,
     "metadata": {},
     "output_type": "execute_result"
    },
    {
     "data": {
      "image/png": "[encoded data removed]",
      "text/plain": [
       "<matplotlib.figure.Figure at 0x27489b70>"
      ]
     },
     "metadata": {},
     "output_type": "display_data"
    }
   ],
   "source": [
    "image = train[2][0].reshape((28, 28))\n",
    "\n",
    "fig, ax = plt.subplots(1, 1, figsize=(4, 4))\n",
    "ax.imshow(image, cmap=\"gray\")\n",
    "ax.set_xticks([], []) ; ax.set_yticks([], [])"
   ]
  },
  {
   "cell_type": "markdown",
   "metadata": {},
   "source": [
    "1. Make four $3 \\times 3$ kernels. They should represent horizontal, vertical, and the two diagonal line feature detectors.\n",
    "1. Plot these kernels.\n",
    "1. Apply the kernels to the image, e.g. by using `convolved2d` from `scipy`.\n",
    "1. Plot the resulting feature activity map for each of the kernels. "
   ]
  },
  {
   "cell_type": "markdown",
   "metadata": {},
   "source": [
    "### Solution 3"
   ]
  },
  {
   "cell_type": "code",
   "execution_count": 7,
   "metadata": {},
   "outputs": [
    {
     "data": {
      "image/png": "[encoded data removed]",
      "text/plain": [
       "<matplotlib.figure.Figure at 0x2697f438>"
      ]
     },
     "metadata": {},
     "output_type": "display_data"
    },
    {
     "data": {
      "image/png": "[encoded data removed]",
      "text/plain": [
       "<matplotlib.figure.Figure at 0x26608048>"
      ]
     },
     "metadata": {},
     "output_type": "display_data"
    }
   ],
   "source": [
    "# 1. Create kernels\n",
    "kernel_template = [ [-1.0, -1.0, -1.0], \n",
    "                    [-1.0,  2.0, -1.0], \n",
    "                    [-1.0, -1.0, -1.0] ]   # example: point detector\n",
    "kernel_diagonal1 = [[ 2.0, -1.0, -1.0], \n",
    "                    [-1.0,  2.0, -1.0], \n",
    "                    [-1.0, -1.0,  2.0] ]\n",
    "kernel_diagonal2 = [[-1.0, -1.0, 2.0], \n",
    "                    [-1.0,  2.0, -1.0], \n",
    "                    [ 2.0, -1.0, -1.0] ]\n",
    "kernel_vertical = [ [-1.0,  2.0, -1.0], \n",
    "                    [-1.0,  2.0, -1.0], \n",
    "                    [-1.0,  2.0, -1.0] ]\n",
    "kernel_horizontal =[[-1.0, -1.0, -1.0], \n",
    "                    [2.0,   2.0,  2.0], \n",
    "                    [-1.0, -1.0, -1.0] ]\n",
    "\n",
    "kernels = kernel_diagonal1, kernel_diagonal2, kernel_vertical, kernel_horizontal\n",
    "\n",
    "# 2. Plot kernels\n",
    "fig, ax = plt.subplots(4, 1, figsize=(4, 16))\n",
    "\n",
    "for i in range(len(ax)):\n",
    "    ax[i].imshow(kernels[i], cmap=\"gray\")\n",
    "    ax[i].set_xticks([], []) ; ax[i].set_yticks([], [])\n",
    "\n",
    "\n",
    "# 3. Convolve the image with the kernels\n",
    "fig, ax = plt.subplots(4, 1, figsize=(4, 16))\n",
    "for i in range(len(kernels)):   \n",
    "    out = ss.convolve2d(image, kernels[i])\n",
    "    \n",
    "# 4. Plot the activity maps\n",
    "    ax[i].imshow(out, cmap=\"gray\")\n",
    "    ax[i].set_xticks([], []) ; ax[i].set_yticks([], [])\n"
   ]
  },
  {
   "cell_type": "markdown",
   "metadata": {
    "collapsed": true
   },
   "source": [
    "### Exercise 4 (3 points)"
   ]
  },
  {
   "cell_type": "markdown",
   "metadata": {
    "collapsed": true
   },
   "source": [
    "We want to train a convolutional neural network (CNN) next. Check [this project](https://github.com/vdumoulin/conv_arithmetic) to get intuition for the operations in convolutional neural network layers. \n",
    "\n",
    "\n",
    "1. Create `class CNN(Chain)` that should contain the new model. It will be similar to the `MLP` class, so you can start by copying the code of the MLP model class. \n",
    "1. The network should have one [2D-convolutional layer](https://docs.chainer.org/en/stable/reference/links.html). The first layer `conv1` should have 4x4 kernels, a stride of 1 and 10 output channels. As in the MLP, a second `Linear` layer should connect with the output units. \n",
    "1. Use ReLU activation functions on the convolutional layer activation.\n",
    "1. Add 2D max-pooling with a `(2,2)` pooling window after the convolutional layer. \n",
    "1. Copy the rest of the training code underneath and adapt it so that it uses your `CNN` model. Change the plot file name to `cnn_plot.png`. Run the model for 30 full iterations through the training set and embed `cnn_plot.png` as before. The output directory should be `cnn_output_folder` now. **Please additionally attach `cnn_plot.png` to your submission.**\n",
    "\n",
    "This will take a while to run. You can test the code by reducing the number of output channels of `conv1` first.  Usually you would train ConvNets on GPUs, which implement many of the linear algebra operations that are used here much more efficiently. "
   ]
  },
  {
   "cell_type": "code",
   "execution_count": 8,
   "metadata": {},
   "outputs": [
    {
     "name": "stdout",
     "output_type": "stream",
     "text": [
      "Shape of a single example: (1L, 28L, 28L)\n"
     ]
    }
   ],
   "source": [
    "# Load the MNIST data set in shape 1x28x28-length (the 2D shape is necessary for the convolutional layer): \n",
    "train, test = datasets.get_mnist(ndim=3)\n",
    "print \"Shape of a single example:\", train[0][0].shape"
   ]
  },
  {
   "cell_type": "markdown",
   "metadata": {},
   "source": [
    "### Solution 4"
   ]
  },
  {
   "cell_type": "code",
   "execution_count": 28,
   "metadata": {},
   "outputs": [
    {
     "name": "stdout",
     "output_type": "stream",
     "text": [
      "epoch       main/accuracy  validation/main/accuracy  main/loss   validation/main/loss\n",
      "1           0.609467       0.8149                    1.73024     1.19892               \n",
      "2           0.824183       0.8562                    0.940074    0.720271              \n",
      "3           0.853383       0.8736                    0.649597    0.550732              \n",
      "4           0.868133       0.8837                    0.532116    0.469945              \n",
      "5           0.877383       0.8918                    0.470552    0.423667              \n",
      "6           0.884217       0.8976                    0.432491    0.3935                \n",
      "7           0.887733       0.9015                    0.406438    0.371741              \n",
      "8           0.8929         0.9036                    0.387246    0.355405              \n",
      "9           0.895617       0.9072                    0.372361    0.342648              \n",
      "10          0.898567       0.9093                    0.360389    0.332187              \n",
      "11          0.901383       0.9109                    0.350348    0.323282              \n",
      "12          0.903417       0.9133                    0.341888    0.316021              \n",
      "13          0.90545        0.9162                    0.334531    0.309023              \n",
      "14          0.907317       0.9162                    0.327886    0.303047              \n",
      "15          0.908833       0.9183                    0.322076    0.297698              \n",
      "16          0.909983       0.92                      0.316684    0.292624              \n",
      "17          0.91105        0.9202                    0.31174     0.288506              \n",
      "18          0.912267       0.9214                    0.307165    0.284825              \n",
      "19          0.913517       0.9223                    0.30286     0.280918              \n",
      "20          0.914733       0.923                     0.298876    0.27757               \n",
      "21          0.915867       0.9242                    0.29506     0.273436              \n",
      "22          0.916883       0.9245                    0.291459    0.270116              \n",
      "23          0.9178         0.9253                    0.287959    0.267106              \n",
      "24          0.919017       0.9258                    0.284593    0.264803              \n",
      "25          0.919617       0.9259                    0.281499    0.261618              \n",
      "26          0.92045        0.9268                    0.278319    0.259043              \n",
      "27          0.921267       0.9278                    0.275309    0.256062              \n",
      "28          0.922067       0.9285                    0.272397    0.253897              \n",
      "29          0.923083       0.929                     0.269651    0.251019              \n",
      "30          0.924233       0.9294                    0.266802    0.248368              \n"
     ]
    }
   ],
   "source": [
    "# Your CNN, including output\n",
    "class CNN(Chain):\n",
    "    def __init__(self, n_units, n_out):\n",
    "        super(CNN, self).__init__()\n",
    "        with self.init_scope():\n",
    "            # the size of the inputs to each layer will be inferred\n",
    "            self.conv1 = L.Convolution2D(None, n_units, stride = 1, ksize = 4)  # n_in -> n_units\n",
    "            self.l2 = L.Linear(None, n_units)  # n_units -> n_units\n",
    "            self.l3 = L.Linear(None, n_out)    # n_units -> n_out\n",
    "\n",
    "    def __call__(self, x):\n",
    "        h1 = F.relu(self.conv1(x))\n",
    "        h2 = F.max_pooling_2d(h1, ksize = 2)\n",
    "        y = self.l3(h2)\n",
    "        return y\n",
    "    \n",
    "model = L.Classifier(CNN(10, 10))  \n",
    "optimizer = optimizers.SGD(0.001)\n",
    "optimizer.setup(model)\n",
    "\n",
    "train_iter = iterators.SerialIterator(train, batch_size=100, shuffle=True)\n",
    "test_iter = iterators.SerialIterator(test, batch_size=100, repeat=False, shuffle=False)\n",
    "\n",
    "updater = training.StandardUpdater(train_iter, optimizer)\n",
    "trainer = training.Trainer(updater, (30, 'epoch'), out=mlp_output_folder)\n",
    "\n",
    "trainer.extend(extensions.Evaluator(test_iter, model))\n",
    "trainer.extend(extensions.LogReport())\n",
    "trainer.extend(extensions.PrintReport([\"epoch\", \"main/accuracy\", \"validation/main/accuracy\", \"main/loss\", \"validation/main/loss\"]))\n",
    "trainer.extend(extensions.PlotReport([\"main/accuracy\", \"validation/main/accuracy\", \"main/loss\", \"validation/main/loss\"],'epoch', file_name='cnn_plot.png'))\n",
    "trainer.run()"
   ]
  },
  {
   "cell_type": "markdown",
   "metadata": {},
   "source": [
    "Embed `cnn_plot.png`: \n",
    "<img src='chainermlp/cnn_plot.png'>"
   ]
  },
  {
   "cell_type": "markdown",
   "metadata": {},
   "source": [
    "### Exercise 5 (0.5 points)\n",
    "The input layer weights that the ConvNet has learned can be found in `model.predictor.conv1.W.data`. Plot them below (as we did in the MLP and autoencoder exercises)."
   ]
  },
  {
   "cell_type": "markdown",
   "metadata": {},
   "source": [
    "### Solution 5"
   ]
  },
  {
   "cell_type": "code",
   "execution_count": 47,
   "metadata": {},
   "outputs": [
    {
     "name": "stdout",
     "output_type": "stream",
     "text": [
      "(16L, 1L, 4L, 4L)\n"
     ]
    },
    {
     "data": {
      "image/png": "[encoded data removed]",
      "text/plain": [
       "<matplotlib.figure.Figure at 0x20057e10>"
      ]
     },
     "metadata": {},
     "output_type": "display_data"
    }
   ],
   "source": [
    "# Plot the weights\n",
    "W1 = model.predictor.conv1.W.data\n",
    "fig, ax = plt.subplots(10,1, figsize=(20, 40)) ## change to 10\n",
    "i = 0\n",
    "for im in ax:\n",
    "    im.imshow(W1[i].reshape(4,4), cmap=\"gray\")\n",
    "    im.set_xticks([],[])\n",
    "    im.set_yticks([],[])\n",
    "    i+=1"
   ]
  },
  {
   "cell_type": "markdown",
   "metadata": {},
   "source": [
    "### Exercise 6 (2 points)\n",
    "1. Which of the two models performed better for classifying MNIST digits in this example? Compare speed of training and test set accuracy. \n",
    "\n",
    "1. The main difference of the models is the type of the first layer. What leads to the success of the first layer of the better-performing model? \n",
    "\n",
    "1. Explain ways in which the convolution operation and the resulting feature maps are biologically plausible (1 way) and biologically implausible (1 way). "
   ]
  },
  {
   "cell_type": "markdown",
   "metadata": {
    "collapsed": true
   },
   "source": [
    "### Solution 6\n",
    "1. In terms of training speed, MLP is much better, but in terms of accuracy, CNN is better. However, training the CNN takes very long.\n",
    "1. Convolutional neural networks look at the input very locally. CNN's are especially good at edge detection (similar to the manual edge detection done in exercise 3. Edge detection is very important in image recognition, which is why the accuracy is higher than in a MLP.\n",
    "1. The retina has cells called Local Edge Detector retinal ganglion cells (LED's). These LED's are specifically meant to detect edges, much like the kernels in CNN's. (https://www.ncbi.nlm.nih.gov/pubmed/16262640, https://www.ncbi.nlm.nih.gov/pubmed/17182775 ) This evidence points to CNN's being quite biologically plausible. This also makes sense since CNN's are especially good at image recognition. <br/><br/>On the other hand, the training process of CNN's is not very similar to the biological process of image recognition. CNN's are trained with a very large amount of labeled traning data, via supervised learning. However, babies for instance learn to recognize visual cues via unsupervised learning, and especially not with 'labeled' data, but simply through some form of trial and error. Another point where CNN's are not biologically likely is in their flexibility. The brain is incredibly flexible, and neurons are constantly adapting, moving and dying off. However, in CNN's, the nodes are fixed and unflexible. We can't simply add or change nodes very easily. "
   ]
  },
  {
   "cell_type": "markdown",
   "metadata": {},
   "source": [
    "You can play around further with your code for this assignment by replacing the MNIST dataset with a more interesting / difficult to solve data set. For instance, you could use: \n",
    "\n",
    "`chainer.datasets.get_cifar10()`  ([CIFAR-10](https://www.cs.toronto.edu/~kriz/cifar.html) - photos of 10 natural object classes)\n",
    "\n",
    "and \n",
    "\n",
    "`chainer.datasets.get_svhn()`  ([SVHN](http://ufldl.stanford.edu/housenumbers/) - house numbers from Google StreetView)"
   ]
  },
  {
   "cell_type": "code",
   "execution_count": null,
   "metadata": {
    "collapsed": true
   },
   "outputs": [],
   "source": []
  }
 ],
 "metadata": {
  "anaconda-cloud": {},
  "kernelspec": {
   "display_name": "Python 2",
   "language": "python",
   "name": "python2"
  },
  "language_info": {
   "codemirror_mode": {
    "name": "ipython",
    "version": 2
   },
   "file_extension": ".py",
   "mimetype": "text/x-python",
   "name": "python",
   "nbconvert_exporter": "python",
   "pygments_lexer": "ipython2",
   "version": "2.7.14"
  }
 },
 "nbformat": 4,
 "nbformat_minor": 1
}
