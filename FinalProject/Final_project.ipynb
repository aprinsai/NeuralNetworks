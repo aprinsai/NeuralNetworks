{
 "cells": [
  {
   "cell_type": "markdown",
   "metadata": {},
   "source": [
    "# Final project: Competition\n",
    "\n",
    "\n",
    "    Hand-in bug-free (try \"Kernel\" > \"Restart & Run All\") and including all (textual as well as figural) output via Blackboard before the deadline (see Blackboard).\n",
    "    \n",
    "Learning goals:\n",
    "1. Build your own state-of-the-art artificial neural network\n",
    "1. Work on a real-world problem definition\n",
    "1. Work in a machine learning competition framework"
   ]
  },
  {
   "cell_type": "markdown",
   "metadata": {},
   "source": [
    "The final assignment is a neural network competition. Your task is to classify categories of clothing on the Fashion-MNIST data set, which has recently been proposed as a more challenging alternative to the standard MNIST dataset. For a more detailed description, some illustrations of the categories, reasons why Fashion-MNIST might be a better benchmark dataset than the classic MNIST dataset, and more, you can check [their GitHub](https://github.com/zalandoresearch/fashion-mnist). \n",
    "\n",
    "The competition is set up as an InClass competition [on Kaggle](https://www.kaggle.com/t/de281a20013a41a3ab724ec020848e23). If you want to continue following the machine learning direction, Kaggle is a great platform for training skills on real-world problems. Via our Kaggle InClass competition, you will be provided with a training and a validation dataset for your own (local) use, and with the features of the competition test set, for which you will generate predictions top be submitted to Kaggle. \n",
    "\n",
    "In this notebook, we provide a code basis which loads the dataset, trains a simple model, and writes the competition test set predictions into the file `test_set_predictions.csv`. This is the file you will create with your own model, and that you should submit to the competition website. \n",
    "\n",
    "The test dataset that we provide you with, contains approximately 42% of the actual total test data we have. The leaderboard will, during the competition, show the performance of your model on this 42% split. Please note, that the final results will be based on the other 58%. This means that overfitting the provided test dataset using the leaderboard will highly likely result in a poor performance on the final evaluation. This also means that the final standings may be different. The final evaluation will be performed after the deadline. \n",
    "\n",
    "Based on the final evaluation, the Top 6 project groups will earn the following bonus on their assignment grades (and eternal fame): \n",
    "1. **Top 1 and 2** will receive +1.0 on their overall assignment grade. \n",
    "1. **Top 3 and 4** will receive +0.5 on their overall assignment grade. \n",
    "1. **Top 5 and 6** will receive +0.3 on their overall assignment grade. \n",
    "*(Note that the maximum average assignment grade you can reach is 10)*\n",
    "\n",
    "If you think that it is necessary you can implement and run your model in a normal Python script, however you need to paste the finalized code including the exercises in this notebook **inside this notebook**. Thus, this final assignment is nothing more than the other assignments: you submit a single notebook file to Blackboard before the deadline, and the assignment counts as the last assignment in the list of all assignments. "
   ]
  },
  {
   "cell_type": "markdown",
   "metadata": {},
   "source": [
    "### Exercise 1 (1 point)\n",
    "\n",
    "1. **Create an account** for your group on Kaggle. Set your `Display Name` to your group number - using the format: `Group07`, `Group42`. You can also use your existing Kaggle account. Just temporarily change your `Display Name` to the group name. \n",
    "\n",
    "1. **Join our InClass competition** [on the Kaggle website](https://www.kaggle.com/t/de281a20013a41a3ab724ec020848e23). \n",
    "\n",
    "1. **Download the dataset** (python pickle) and the example submission from the 'data' tab at the competition webstite. \n",
    "\n",
    "1. After doing all the above, **submit the example submission** file `sampleSubmission.csv`. You do so by clicking 'Submit Predictions'. Here, you can upload the submission file, and also annotate it with versioning information or so.\n",
    "\n",
    "You will receive the point for this exercise if we see your group name in the leaderboard. "
   ]
  },
  {
   "cell_type": "markdown",
   "metadata": {},
   "source": [
    "### Exercise 2 (1.5 points)\n",
    "\n",
    "**Implement your neural network** within python 2.0 using the chainer library, just like all other assignments. Below, we have provided some preliminary code from which you can start. For instance, you could improve or use: \n",
    "\n",
    "* the neural network in the model class (obviously)\n",
    "* the types of the [neural network layers](https://docs.chainer.org/en/stable/reference/links.html) (also check [this website to get some intuition](https://github.com/vdumoulin/conv_arithmetic))\n",
    "* the objective function\n",
    "* various types of preprocessing including [z-standardisation](http://scikit-learn.org/stable/modules/preprocessing.html) and data augmentation\n",
    "* weight initialization\n",
    "* prevention of overfitting via cross-validation\n",
    "* batch normalization\n",
    "* early stopping\n",
    "* regularization hooks (L1, L2)\n",
    "* dropout\n",
    "* and much more\n",
    "\n",
    "Most of these are small tricks that are easy to look up and add to your model. And most of them are implemented in state-of-the-art neural networks frameworks. Check [this page](http://lamda.nju.edu.cn/weixs/project/CNNTricks/CNNTricks.html) for a brief summary of many common tricks including  code. "
   ]
  },
  {
   "cell_type": "markdown",
   "metadata": {},
   "source": [
    "### Exercise 3 (1 point)\n",
    "\n",
    "Make an informed choice for your `optimizer`. A good guide on various optimizers can be found [here](http://ruder.io/optimizing-gradient-descent/). Not all, but most of them are implemented in chainer. **Explain** why you have chosen this particular optimizer. "
   ]
  },
  {
   "cell_type": "markdown",
   "metadata": {},
   "source": [
    "### Exercise 4 (2 points)\n",
    "\n",
    "**Explain** your neural network implementation in a structured way. Clearly motivate your choices. For instance, motivate the architecture (number and type of layers, number of units, non-linearities, extensions like dropout, etc.). "
   ]
  },
  {
   "cell_type": "markdown",
   "metadata": {},
   "source": [
    "### Exercise 5 (3.5 points)\n",
    "\n",
    "**Evaluate** the performance of your model on the **local test set**. \n",
    "\n",
    "As a minimum, you should: \n",
    "1. Plot the training vs. test accurracy across training epochs and embed the resulting plot here. \n",
    "1. Plot some of the weights that your model has learned in the first layer.\n",
    "1. Show 3 examples from the local test set that the model was unable to classify correctly.  (Check for which images real labels and predicted labels do not match. Plot the corresponding images.)\n",
    "1. (Text question) Did your model perform well or not? Based on your observations, which architectural choices do you think have influenced performance most?"
   ]
  },
  {
   "cell_type": "markdown",
   "metadata": {},
   "source": [
    "### Exercise 6 (1 point)\n",
    "\n",
    "**Submit** `test_set_predictions.txt` to the [Kaggle competition website](https://www.kaggle.com/t/de281a20013a41a3ab724ec020848e23). You can submit the file twice a day to check your position in the leaderboard, and to improve your position. You will receive this point if we see a reasonable submission attempt online. "
   ]
  },
  {
   "cell_type": "markdown",
   "metadata": {},
   "source": [
    "### Code basis\n"
   ]
  },
  {
   "cell_type": "markdown",
   "metadata": {},
   "source": [
    "#### Imports and dataset\n",
    "\n",
    "Note, we have `train_features` and `train_labels` which you can use to train your model, `local_test_features` and `local_test_labels` which you can use to validate your model locally, and `kaggle_test_features`, which is the dataset for which you need to generate predictions and submit to the online Kaggle competition to obtain a performance for the leaderboard. "
   ]
  },
  {
   "cell_type": "code",
   "execution_count": 1,
   "metadata": {},
   "outputs": [
    {
     "name": "stderr",
     "output_type": "stream",
     "text": [
      "C:\\Users\\Elena\\Anaconda2\\lib\\site-packages\\h5py\\__init__.py:36: FutureWarning: Conversion of the second argument of issubdtype from `float` to `np.floating` is deprecated. In future, it will be treated as `np.float64 == np.dtype(float).type`.\n",
      "  from ._conv import register_converters as _register_converters\n"
     ]
    }
   ],
   "source": [
    "% matplotlib inline\n",
    "import matplotlib.pyplot as plt\n",
    "import numpy as np\n",
    "import chainer\n",
    "import csv, pickle\n",
    "\n",
    "from chainer import cuda, Function, gradient_check, report, training, utils, Variable\n",
    "from chainer import datasets, iterators, optimizers, serializers\n",
    "from chainer import Link, Chain, ChainList\n",
    "import chainer.functions as F\n",
    "import chainer.links as L\n",
    "import chainer.datasets as D\n",
    "from chainer.training import extensions"
   ]
  },
  {
   "cell_type": "code",
   "execution_count": 2,
   "metadata": {},
   "outputs": [
    {
     "data": {
      "text/plain": [
       "<matplotlib.image.AxesImage at 0x9d18358>"
      ]
     },
     "execution_count": 2,
     "metadata": {},
     "output_type": "execute_result"
    },
    {
     "data": {
      "image/png": "[encoded data removed]",
      "text/plain": [
       "<matplotlib.figure.Figure at 0x9c5a358>"
      ]
     },
     "metadata": {},
     "output_type": "display_data"
    }
   ],
   "source": [
    "# Load the dataset\n",
    "with open('competition_data.pkl', 'rb') as handle:\n",
    "    competition_data = pickle.load(handle)\n",
    "\n",
    "# Training data\n",
    "train_features = competition_data['train_features'].astype('float32')\n",
    "train_labels = competition_data['label_train'].astype('int8')\n",
    "\n",
    "# Local test data\n",
    "local_test_features = competition_data['local_test_features'].astype('float32')\n",
    "local_test_labels = competition_data['local_test_labels'].astype('int8')\n",
    "\n",
    "# Kaggle feature data\n",
    "kaggle_test_features = competition_data['kaggle_test_features'].astype('float32')\n",
    "\n",
    "# Show data example\n",
    "plt.figure()\n",
    "plt.imshow(train_features[123].reshape([28,28]), cmap='gray')"
   ]
  },
  {
   "cell_type": "code",
   "execution_count": 3,
   "metadata": {},
   "outputs": [],
   "source": [
    "# add dimension???????\n",
    "train_features_new_dim = np.expand_dims(train_features, axis = 1)\n",
    "local_test_features_new_dim = np.expand_dims(local_test_features, axis = 1)"
   ]
  },
  {
   "cell_type": "code",
   "execution_count": 4,
   "metadata": {},
   "outputs": [],
   "source": [
    "# Create chainer datasets\n",
    "train = D.TupleDataset(train_features_new_dim, train_labels)\n",
    "test = D.TupleDataset(local_test_features_new_dim, local_test_labels)\n",
    "\n",
    "# Create chainer iterators\n",
    "train_iter = iterators.SerialIterator(train, batch_size=100, shuffle=True)\n",
    "test_iter = iterators.SerialIterator(test, batch_size=100, repeat=False, shuffle=False)"
   ]
  },
  {
   "cell_type": "markdown",
   "metadata": {},
   "source": [
    "#### Model classes\n",
    "\n",
    "Note, you do not necessarily need to use the templates as provided here. Use them as a starting point instead. Logistic regression can be framed as a neural network, which we provide below. Note that SVMs and decision trees are not allowed here. "
   ]
  },
  {
   "cell_type": "code",
   "execution_count": 5,
   "metadata": {},
   "outputs": [],
   "source": [
    "# Implement the neural network for your competition here:\n",
    "class CompetitionNetwork(Chain):\n",
    "    def __init__(self, n_out, n_units):\n",
    "        super(CompetitionNetwork, self).__init__()\n",
    "        with self.init_scope():\n",
    "            # the size of the inputs to each layer will be inferred\n",
    "            self.conv1 = L.Convolution2D(None, n_units, stride = 4, ksize = 14)  # n_in -> n_units\n",
    "            # self.l2 = L.Linear(None, n_units)  # n_units -> n_units\n",
    "            self.l3 = L.Linear(None, n_out)    # n_units -> n_out\n",
    "            self.norm = L.BatchNormalization(n_units)\n",
    "\n",
    "    def __call__(self, x):\n",
    "        h1 = F.relu(self.conv1(x))\n",
    "        hnorm = F.relu(self.norm(h1))\n",
    "        h2 = F.max_pooling_2d(hnorm, ksize = 2)\n",
    "        y = self.l3(h2)\n",
    "        return y\n",
    "    \n",
    "# Linear regression model for testing the competition process:\n",
    "class LinearRegression(Chain):\n",
    "    def __init__(self, n_out):\n",
    "        super(LinearRegression, self).__init__()\n",
    "        with self.init_scope():\n",
    "            self.lr = L.Linear(None, n_out)\n",
    "\n",
    "    def __call__(self, x):\n",
    "        y = self.lr(x)\n",
    "        return y\n",
    "\n",
    "# The classifier setup, including the objective/loss function\n",
    "class Classifier(Chain):\n",
    "    def __init__(self, predictor):\n",
    "        super(Classifier, self).__init__()\n",
    "        with self.init_scope():\n",
    "            self.predictor = predictor\n",
    "\n",
    "    def __call__(self, x, t):\n",
    "        y = self.predictor(x)\n",
    "        loss = F.softmax_cross_entropy(y, t) # The objective function\n",
    "        accuracy = F.accuracy(y, t)\n",
    "        report({'loss': loss, 'accuracy': accuracy}, self)\n",
    "        return loss\n",
    "    \n",
    "    def predict(self, x):  \n",
    "        yclass = F.softmax( self.predictor(x) ).data.argmax(axis=1)\n",
    "        return yclass"
   ]
  },
  {
   "cell_type": "markdown",
   "metadata": {},
   "source": [
    "#### Set up optimizer and run training"
   ]
  },
  {
   "cell_type": "code",
   "execution_count": 6,
   "metadata": {},
   "outputs": [
    {
     "name": "stdout",
     "output_type": "stream",
     "text": [
      "epoch       main/accuracy  validation/main/accuracy  main/loss   validation/main/loss\n",
      "1           0.769633       0.801                     0.660167    0.554682              \n",
      "2           0.82165        0.817                     0.500977    0.510059              \n",
      "3           0.833067       0.836                     0.466657    0.456359              \n",
      "4           0.839883       0.8204                    0.448056    0.486361              \n",
      "5           0.845017       0.8384                    0.436669    0.456755              \n",
      "6           0.847867       0.844                     0.426281    0.439114              \n",
      "7           0.85075        0.8166                    0.419127    0.492536              \n",
      "8           0.850433       0.8374                    0.413304    0.455351              \n",
      "9           0.852133       0.8362                    0.40959     0.442961              \n",
      "10          0.855333       0.8464                    0.40496     0.430476              \n",
      "11          0.856167       0.8454                    0.401931    0.432522              \n",
      "12          0.856983       0.8422                    0.398449    0.442744              \n",
      "13          0.85805        0.8374                    0.395294    0.459856              \n",
      "14          0.85755        0.8464                    0.394593    0.441655              \n",
      "15          0.8597         0.8432                    0.392424    0.432953              \n",
      "16          0.858683       0.8412                    0.391994    0.4437                \n",
      "17          0.860317       0.8486                    0.388958    0.42517               \n",
      "18          0.8599         0.8428                    0.387721    0.429039              \n",
      "19          0.861967       0.8334                    0.3846      0.458406              \n",
      "20          0.860667       0.8406                    0.384058    0.428431              \n",
      "21          0.862333       0.8448                    0.382181    0.432096              \n",
      "22          0.861833       0.8502                    0.382941    0.439788              \n",
      "23          0.8632         0.84                      0.380423    0.440573              \n",
      "24          0.863          0.8474                    0.380337    0.428576              \n",
      "25          0.8637         0.8536                    0.377006    0.421059              \n",
      "26          0.8637         0.842                     0.376687    0.434198              \n",
      "27          0.86465        0.8444                    0.375941    0.436261              \n",
      "28          0.864283       0.8422                    0.37604     0.436999              \n",
      "29          0.86465        0.8524                    0.374162    0.42547               \n",
      "30          0.865017       0.844                     0.373346    0.441418              \n",
      "31          0.866533       0.8516                    0.372128    0.421207              \n",
      "32          0.86545        0.8512                    0.372049    0.422184              \n",
      "33          0.86645        0.8472                    0.370402    0.426364              \n",
      "34          0.86575        0.8408                    0.370948    0.432193              \n",
      "35          0.865283       0.8488                    0.370602    0.426439              \n",
      "36          0.866833       0.8502                    0.368096    0.429025              \n",
      "37          0.866783       0.843                     0.36845     0.434284              \n",
      "38          0.86725        0.8472                    0.367518    0.424127              \n",
      "39          0.867417       0.8412                    0.365573    0.430997              \n",
      "40          0.868567       0.8456                    0.36637     0.431681              \n",
      "41          0.8678         0.8422                    0.36596     0.442141              \n",
      "42          0.866983       0.8524                    0.366362    0.421672              \n",
      "43          0.867967       0.8514                    0.365169    0.416125              \n",
      "44          0.867733       0.8404                    0.36577     0.438138              \n",
      "45          0.868767       0.8446                    0.36522     0.438168              \n",
      "46          0.86935        0.8478                    0.363703    0.431223              \n",
      "47          0.868          0.8484                    0.364619    0.430791              \n",
      "48          0.86835        0.8438                    0.364174    0.425941              \n",
      "49          0.869317       0.8434                    0.361769    0.427588              \n",
      "50          0.868683       0.8476                    0.362817    0.425081              \n"
     ]
    }
   ],
   "source": [
    "# Setup model\n",
    "model = Classifier(CompetitionNetwork(n_out=10,n_units=16))   # replace this with CompetitionNetwork\n",
    "\n",
    "# Setup optimizer\n",
    "optimizer = optimizers.SGD(lr=0.1)\n",
    "optimizer.setup(model)\n",
    "\n",
    "# Setup trainer\n",
    "updater = training.StandardUpdater(train_iter, optimizer)\n",
    "trainer = training.Trainer(updater, (50, 'epoch'), out='competition_output')\n",
    "\n",
    "# Add local validation set\n",
    "trainer.extend(extensions.Evaluator(test_iter, model))\n",
    "\n",
    "# Print/log results\n",
    "trainer.extend(extensions.LogReport())\n",
    "trainer.extend(extensions.PrintReport([\"epoch\", \"main/accuracy\", \"validation/main/accuracy\",  \"main/loss\", \"validation/main/loss\"]))\n",
    "\n",
    "# Start training\n",
    "trainer.run()"
   ]
  },
  {
   "cell_type": "code",
   "execution_count": 9,
   "metadata": {},
   "outputs": [],
   "source": [
    "kaggle_test_features_new_dim = np.expand_dims(kaggle_test_features, axis = 1)"
   ]
  },
  {
   "cell_type": "markdown",
   "metadata": {},
   "source": [
    "#### Predict on competition data set and write submission file\n",
    "\n",
    "Note that the submission file is a simple CSV file which contains two columns: The item `ID` and the predicted `class` label. With the code below, you can transform the vector of predictions into the required submission file. Submit this CSV file manually to the competition website."
   ]
  },
  {
   "cell_type": "code",
   "execution_count": 11,
   "metadata": {},
   "outputs": [],
   "source": [
    "# Predict labels of the kaggle test dataset using the trained model\n",
    "kaggle_test_predicted_labels = model.predict(kaggle_test_features_new_dim)"
   ]
  },
  {
   "cell_type": "code",
   "execution_count": 12,
   "metadata": {},
   "outputs": [],
   "source": [
    "# Write the submission file\n",
    "f = open(\"kaggle_test_predicted_labels.csv\", \"w\")\n",
    "w = csv.writer(f, delimiter=',')\n",
    "w.writerow(['ID','class'])\n",
    "for item_id in xrange(kaggle_test_features.shape[0]):\n",
    "    w.writerow([item_id, kaggle_test_predicted_labels[item_id]])\n",
    "f.close()"
   ]
  },
  {
   "cell_type": "code",
   "execution_count": null,
   "metadata": {},
   "outputs": [],
   "source": []
  }
 ],
 "metadata": {
  "anaconda-cloud": {},
  "kernelspec": {
   "display_name": "Python 2",
   "language": "python",
   "name": "python2"
  },
  "language_info": {
   "codemirror_mode": {
    "name": "ipython",
    "version": 2
   },
   "file_extension": ".py",
   "mimetype": "text/x-python",
   "name": "python",
   "nbconvert_exporter": "python",
   "pygments_lexer": "ipython2",
   "version": "2.7.14"
  }
 },
 "nbformat": 4,
 "nbformat_minor": 1
}
