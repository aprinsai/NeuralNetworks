{
 "cells": [
  {
   "cell_type": "markdown",
   "metadata": {},
   "source": [
    "# Final project: Competition\n",
    "\n",
    "\n",
    "    Hand-in bug-free (try \"Kernel\" > \"Restart & Run All\") and including all (textual as well as figural) output via Blackboard before the deadline (see Blackboard).\n",
    "    \n",
    "Learning goals:\n",
    "1. Build your own state-of-the-art artificial neural network\n",
    "1. Work on a real-world problem definition\n",
    "1. Work in a machine learning competition framework"
   ]
  },
  {
   "cell_type": "markdown",
   "metadata": {},
   "source": [
    "The final assignment is a neural network competition. Your task is to classify categories of clothing on the Fashion-MNIST data set, which has recently been proposed as a more challenging alternative to the standard MNIST dataset. For a more detailed description, some illustrations of the categories, reasons why Fashion-MNIST might be a better benchmark dataset than the classic MNIST dataset, and more, you can check [their GitHub](https://github.com/zalandoresearch/fashion-mnist). \n",
    "\n",
    "The competition is set up as an InClass competition [on Kaggle](https://www.kaggle.com/t/de281a20013a41a3ab724ec020848e23). If you want to continue following the machine learning direction, Kaggle is a great platform for training skills on real-world problems. Via our Kaggle InClass competition, you will be provided with a training and a validation dataset for your own (local) use, and with the features of the competition test set, for which you will generate predictions top be submitted to Kaggle. \n",
    "\n",
    "In this notebook, we provide a code basis which loads the dataset, trains a simple model, and writes the competition test set predictions into the file `test_set_predictions.csv`. This is the file you will create with your own model, and that you should submit to the competition website. \n",
    "\n",
    "The test dataset that we provide you with, contains approximately 42% of the actual total test data we have. The leaderboard will, during the competition, show the performance of your model on this 42% split. Please note, that the final results will be based on the other 58%. This means that overfitting the provided test dataset using the leaderboard will highly likely result in a poor performance on the final evaluation. This also means that the final standings may be different. The final evaluation will be performed after the deadline. \n",
    "\n",
    "Based on the final evaluation, the Top 6 project groups will earn the following bonus on their assignment grades (and eternal fame): \n",
    "1. **Top 1 and 2** will receive +1.0 on their overall assignment grade. \n",
    "1. **Top 3 and 4** will receive +0.5 on their overall assignment grade. \n",
    "1. **Top 5 and 6** will receive +0.3 on their overall assignment grade. \n",
    "*(Note that the maximum average assignment grade you can reach is 10)*\n",
    "\n",
    "If you think that it is necessary you can implement and run your model in a normal Python script, however you need to paste the finalized code including the exercises in this notebook **inside this notebook**. Thus, this final assignment is nothing more than the other assignments: you submit a single notebook file to Blackboard before the deadline, and the assignment counts as the last assignment in the list of all assignments. "
   ]
  },
  {
   "cell_type": "markdown",
   "metadata": {},
   "source": [
    "### Exercise 1 (1 point)\n",
    "\n",
    "1. **Create an account** for your group on Kaggle. Set your `Display Name` to your group number - using the format: `Group07`, `Group42`. You can also use your existing Kaggle account. Just temporarily change your `Display Name` to the group name. \n",
    "\n",
    "1. **Join our InClass competition** [on the Kaggle website](https://www.kaggle.com/t/de281a20013a41a3ab724ec020848e23). \n",
    "\n",
    "1. **Download the dataset** (python pickle) and the example submission from the 'data' tab at the competition webstite. \n",
    "\n",
    "1. After doing all the above, **submit the example submission** file `sampleSubmission.csv`. You do so by clicking 'Submit Predictions'. Here, you can upload the submission file, and also annotate it with versioning information or so.\n",
    "\n",
    "You will receive the point for this exercise if we see your group name in the leaderboard. "
   ]
  },
  {
   "cell_type": "markdown",
   "metadata": {},
   "source": [
    "### Exercise 2 (1.5 points)\n",
    "\n",
    "**Implement your neural network** within python 2.0 using the chainer library, just like all other assignments. Below, we have provided some preliminary code from which you can start. For instance, you could improve or use: \n",
    "\n",
    "* the neural network in the model class (obviously)\n",
    "* the types of the [neural network layers](https://docs.chainer.org/en/stable/reference/links.html) (also check [this website to get some intuition](https://github.com/vdumoulin/conv_arithmetic))\n",
    "* the objective function\n",
    "* various types of preprocessing including [z-standardisation](http://scikit-learn.org/stable/modules/preprocessing.html) and data augmentation\n",
    "* weight initialization\n",
    "* prevention of overfitting via cross-validation\n",
    "* batch normalization\n",
    "* early stopping\n",
    "* regularization hooks (L1, L2)\n",
    "* dropout\n",
    "* and much more\n",
    "\n",
    "Most of these are small tricks that are easy to look up and add to your model. And most of them are implemented in state-of-the-art neural networks frameworks. Check [this page](http://lamda.nju.edu.cn/weixs/project/CNNTricks/CNNTricks.html) for a brief summary of many common tricks including  code. "
   ]
  },
  {
   "cell_type": "markdown",
   "metadata": {},
   "source": [
    "### Exercise 3 (1 point)\n",
    "\n",
    "Make an informed choice for your `optimizer`. A good guide on various optimizers can be found [here](http://ruder.io/optimizing-gradient-descent/). Not all, but most of them are implemented in chainer. **Explain** why you have chosen this particular optimizer. "
   ]
  },
  {
   "cell_type": "markdown",
   "metadata": {},
   "source": [
    "### Exercise 4 (2 points)\n",
    "\n",
    "**Explain** your neural network implementation in a structured way. Clearly motivate your choices. For instance, motivate the architecture (number and type of layers, number of units, non-linearities, extensions like dropout, etc.). "
   ]
  },
  {
   "cell_type": "markdown",
   "metadata": {},
   "source": [
    "### Exercise 5 (3.5 points)\n",
    "\n",
    "**Evaluate** the performance of your model on the **local test set**. \n",
    "\n",
    "As a minimum, you should: \n",
    "1. Plot the training vs. test accurracy across training epochs and embed the resulting plot here. \n",
    "1. Plot some of the weights that your model has learned in the first layer.\n",
    "1. Show 3 examples from the local test set that the model was unable to classify correctly.  (Check for which images real labels and predicted labels do not match. Plot the corresponding images.)\n",
    "1. (Text question) Did your model perform well or not? Based on your observations, which architectural choices do you think have influenced performance most?"
   ]
  },
  {
   "cell_type": "markdown",
   "metadata": {},
   "source": [
    "### Exercise 6 (1 point)\n",
    "\n",
    "**Submit** `test_set_predictions.txt` to the [Kaggle competition website](https://www.kaggle.com/t/de281a20013a41a3ab724ec020848e23). You can submit the file twice a day to check your position in the leaderboard, and to improve your position. You will receive this point if we see a reasonable submission attempt online. "
   ]
  },
  {
   "cell_type": "markdown",
   "metadata": {},
   "source": [
    "### Code basis\n"
   ]
  },
  {
   "cell_type": "markdown",
   "metadata": {},
   "source": [
    "#### Imports and dataset\n",
    "\n",
    "Note, we have `train_features` and `train_labels` which you can use to train your model, `local_test_features` and `local_test_labels` which you can use to validate your model locally, and `kaggle_test_features`, which is the dataset for which you need to generate predictions and submit to the online Kaggle competition to obtain a performance for the leaderboard. "
   ]
  },
  {
   "cell_type": "code",
   "execution_count": 1,
   "metadata": {},
   "outputs": [
    {
     "name": "stderr",
     "output_type": "stream",
     "text": [
      "/Users/jordythielen/anaconda2/lib/python2.7/site-packages/h5py/__init__.py:34: FutureWarning: Conversion of the second argument of issubdtype from `float` to `np.floating` is deprecated. In future, it will be treated as `np.float64 == np.dtype(float).type`.\n",
      "  from ._conv import register_converters as _register_converters\n"
     ]
    }
   ],
   "source": [
    "% matplotlib inline\n",
    "import matplotlib.pyplot as plt\n",
    "import numpy as np\n",
    "import chainer\n",
    "import csv, pickle\n",
    "\n",
    "from chainer import cuda, Function, gradient_check, report, training, utils, Variable\n",
    "from chainer import datasets, iterators, optimizers, serializers\n",
    "from chainer import Link, Chain, ChainList\n",
    "import chainer.functions as F\n",
    "import chainer.links as L\n",
    "import chainer.datasets as D\n",
    "from chainer.training import extensions"
   ]
  },
  {
   "cell_type": "code",
   "execution_count": 2,
   "metadata": {},
   "outputs": [
    {
     "data": {
      "text/plain": [
       "<matplotlib.image.AxesImage at 0x107002d50>"
      ]
     },
     "execution_count": 2,
     "metadata": {},
     "output_type": "execute_result"
    },
    {
     "data": {
      "image/png": "[encoded data removed]",
      "text/plain": [
       "<matplotlib.figure.Figure at 0x106bdd490>"
      ]
     },
     "metadata": {},
     "output_type": "display_data"
    }
   ],
   "source": [
    "# Load the dataset\n",
    "with open('competition_data.pkl', 'rb') as handle:\n",
    "    competition_data = pickle.load(handle)\n",
    "\n",
    "# Training data\n",
    "train_features = competition_data['train_features'].astype('float32')\n",
    "train_labels = competition_data['label_train'].astype('int8')\n",
    "\n",
    "# Local test data\n",
    "local_test_features = competition_data['local_test_features'].astype('float32')\n",
    "local_test_labels = competition_data['local_test_labels'].astype('int8')\n",
    "\n",
    "# Kaggle feature data\n",
    "kaggle_test_features = competition_data['kaggle_test_features'].astype('float32')\n",
    "\n",
    "# Show data example\n",
    "plt.figure()\n",
    "plt.imshow(train_features[123].reshape([28,28]), cmap='gray')"
   ]
  },
  {
   "cell_type": "code",
   "execution_count": 3,
   "metadata": {
    "collapsed": true
   },
   "outputs": [],
   "source": [
    "# Create chainer datasets\n",
    "train = D.TupleDataset(train_features, train_labels)\n",
    "test = D.TupleDataset(local_test_features, local_test_labels)\n",
    "\n",
    "# Create chainer iterators\n",
    "train_iter = iterators.SerialIterator(train, batch_size=100, shuffle=True)\n",
    "test_iter = iterators.SerialIterator(test, batch_size=100, repeat=False, shuffle=False)"
   ]
  },
  {
   "cell_type": "markdown",
   "metadata": {},
   "source": [
    "#### Model classes\n",
    "\n",
    "Note, you do not necessarily need to use the templates as provided here. Use them as a starting point instead. Logistic regression can be framed as a neural network, which we provide below. Note that SVMs and decision trees are not allowed here. "
   ]
  },
  {
   "cell_type": "code",
   "execution_count": 4,
   "metadata": {
    "collapsed": true
   },
   "outputs": [],
   "source": [
    "# Implement the neural network for your competition here:\n",
    "class CompetitionNetwork(Chain):\n",
    "    def __init__(self, n_out):\n",
    "        pass\n",
    "\n",
    "    def __call__(self, x):\n",
    "        pass\n",
    "    \n",
    "# Linear regression model for testing the competition process:\n",
    "class LinearRegression(Chain):\n",
    "    def __init__(self, n_out):\n",
    "        super(LinearRegression, self).__init__()\n",
    "        with self.init_scope():\n",
    "            self.lr = L.Linear(None, n_out)\n",
    "\n",
    "    def __call__(self, x):\n",
    "        y = self.lr(x)\n",
    "        return y\n",
    "\n",
    "# The classifier setup, including the objective/loss function\n",
    "class Classifier(Chain):\n",
    "    def __init__(self, predictor):\n",
    "        super(Classifier, self).__init__()\n",
    "        with self.init_scope():\n",
    "            self.predictor = predictor\n",
    "\n",
    "    def __call__(self, x, t):\n",
    "        y = self.predictor(x)\n",
    "        loss = F.softmax_cross_entropy(y, t) # The objective function\n",
    "        accuracy = F.accuracy(y, t)\n",
    "        report({'loss': loss, 'accuracy': accuracy}, self)\n",
    "        return loss\n",
    "    \n",
    "    def predict(self, x):  \n",
    "        yclass = F.softmax( self.predictor(x) ).data.argmax(axis=1)\n",
    "        return yclass"
   ]
  },
  {
   "cell_type": "markdown",
   "metadata": {},
   "source": [
    "#### Set up optimizer and run training"
   ]
  },
  {
   "cell_type": "code",
   "execution_count": 5,
   "metadata": {},
   "outputs": [
    {
     "name": "stdout",
     "output_type": "stream",
     "text": [
      "epoch       main/accuracy  validation/main/accuracy  main/loss   validation/main/loss\n",
      "\u001b[J1           0.6618         0.726                     22073.3     30314                 \n",
      "\u001b[J2           0.7167         0.653                     14780.7     22404.2               \n",
      "\u001b[J3           0.728817       0.7848                    13559.4     7231.12               \n",
      "\u001b[J4           0.734767       0.729                     13528.9     11921                 \n",
      "\u001b[J5           0.738567       0.6214                    12849.1     18796.2               \n",
      "\u001b[J6           0.744817       0.7578                    12075.7     9335.71               \n",
      "\u001b[J7           0.744167       0.7198                    12345.4     15953.9               \n",
      "\u001b[J8           0.747867       0.7474                    12015.6     11835.2               \n",
      "\u001b[J9           0.7444         0.7644                    12528.8     8780.67               \n",
      "\u001b[J10          0.7493         0.7534                    11926.1     7148.71               \n",
      "\u001b[J11          0.7459         0.7446                    12761       17695.1               \n",
      "\u001b[J12          0.749783       0.658                     12128.5     24894.2               \n",
      "\u001b[J13          0.751367       0.6278                    11979.6     22682.9               \n",
      "\u001b[J14          0.752767       0.6678                    11828.9     23153.9               \n",
      "\u001b[J15          0.748283       0.7542                    12376.4     10778.1               \n",
      "\u001b[J16          0.752217       0.7366                    12125.1     18595.8               \n",
      "\u001b[J17          0.756433       0.7086                    11830       14730.6               \n",
      "\u001b[J18          0.752383       0.7584                    12008.7     16237.2               \n",
      "\u001b[J19          0.751783       0.732                     11973.4     10359.5               \n",
      "\u001b[J20          0.7548         0.7716                    11810.6     9183.83               \n",
      "\u001b[J21          0.7552         0.6262                    11650.4     22093.6               \n",
      "\u001b[J22          0.753083       0.7266                    11684.6     16453.1               \n",
      "\u001b[J23          0.75685        0.739                     11514.9     17698.7               \n",
      "\u001b[J24          0.758933       0.7798                    11294.7     7867.31               \n",
      "\u001b[J25          0.756017       0.7748                    12049       11164.3               \n",
      "\u001b[J26          0.756317       0.7864                    11544.9     8927.02               \n",
      "\u001b[J27          0.757517       0.78                      11594.4     8510.23               \n",
      "\u001b[J28          0.75505        0.7576                    11780.5     9721.65               \n",
      "\u001b[J29          0.760233       0.7196                    11109.6     13954.7               \n",
      "\u001b[J30          0.7573         0.7818                    11637.4     9021.65               \n",
      "\u001b[J31          0.7581         0.713                     11713.3     11429.6               \n",
      "\u001b[J32          0.757283       0.7472                    11628.4     12350.3               \n",
      "\u001b[J33          0.7594         0.6844                    11393.2     19884.8               \n",
      "\u001b[J34          0.757717       0.5808                    11356.1     24072.1               \n",
      "\u001b[J35          0.758          0.7608                    11927.4     11617.1               \n",
      "\u001b[J36          0.761183       0.7396                    11309.8     17553.9               \n",
      "\u001b[J37          0.75945        0.738                     11710.6     18357.1               \n",
      "\u001b[J38          0.7596         0.7172                    11744.5     12447.4               \n",
      "\u001b[J39          0.7614         0.7232                    11374.7     11590.8               \n",
      "\u001b[J40          0.759617       0.7368                    11343.1     10734.6               \n",
      "\u001b[J41          0.7601         0.7326                    11031.6     13466.5               \n",
      "\u001b[J42          0.760717       0.777                     10991.9     9331.26               \n",
      "\u001b[J43          0.761417       0.6916                    10866.1     10241.1               \n",
      "\u001b[J44          0.7585         0.7312                    11390.4     11043.9               \n",
      "\u001b[J45          0.762017       0.715                     11185.5     14508.2               \n",
      "\u001b[J46          0.759683       0.758                     11366.5     10247                 \n",
      "\u001b[J47          0.761083       0.6706                    11131.9     20896.3               \n",
      "\u001b[J48          0.759217       0.7052                    11564.9     20128.4               \n",
      "\u001b[J49          0.7606         0.7492                    11677.4     13866.8               \n",
      "\u001b[J50          0.759817       0.746                     11505.2     11093.3               \n"
     ]
    }
   ],
   "source": [
    "# Setup model\n",
    "model = Classifier(LinearRegression(n_out=10))   # replace this with CompetitionNetwork\n",
    "\n",
    "# Setup optimizer\n",
    "optimizer = optimizers.SGD(lr=0.1)\n",
    "optimizer.setup(model)\n",
    "\n",
    "# Setup trainer\n",
    "updater = training.StandardUpdater(train_iter, optimizer)\n",
    "trainer = training.Trainer(updater, (50, 'epoch'), out='competition_output')\n",
    "\n",
    "# Add local validation set\n",
    "trainer.extend(extensions.Evaluator(test_iter, model))\n",
    "\n",
    "# Print/log results\n",
    "trainer.extend(extensions.LogReport())\n",
    "trainer.extend(extensions.PrintReport([\"epoch\", \"main/accuracy\", \"validation/main/accuracy\",  \"main/loss\", \"validation/main/loss\"]))\n",
    "\n",
    "# Start training\n",
    "trainer.run()"
   ]
  },
  {
   "cell_type": "markdown",
   "metadata": {},
   "source": [
    "#### Predict on competition data set and write submission file\n",
    "\n",
    "Note that the submission file is a simple CSV file which contains two columns: The item `ID` and the predicted `class` label. With the code below, you can transform the vector of predictions into the required submission file. Submit this CSV file manually to the competition website."
   ]
  },
  {
   "cell_type": "code",
   "execution_count": 6,
   "metadata": {
    "collapsed": true
   },
   "outputs": [],
   "source": [
    "# Predict labels of the kaggle test dataset using the trained model\n",
    "kaggle_test_predicted_labels = model.predict(kaggle_test_features)"
   ]
  },
  {
   "cell_type": "code",
   "execution_count": 7,
   "metadata": {
    "collapsed": true
   },
   "outputs": [],
   "source": [
    "# Write the submission file\n",
    "f = open(\"kaggle_test_predicted_labels.csv\", \"w\")\n",
    "w = csv.writer(f, delimiter=',')\n",
    "w.writerow(['ID','class'])\n",
    "for item_id in xrange(kaggle_test_features.shape[0]):\n",
    "    w.writerow([item_id, kaggle_test_predicted_labels[item_id]])\n",
    "f.close()"
   ]
  }
 ],
 "metadata": {
  "anaconda-cloud": {},
  "kernelspec": {
   "display_name": "Python [default]",
   "language": "python",
   "name": "python2"
  },
  "language_info": {
   "codemirror_mode": {
    "name": "ipython",
    "version": 2
   },
   "file_extension": ".py",
   "mimetype": "text/x-python",
   "name": "python",
   "nbconvert_exporter": "python",
   "pygments_lexer": "ipython2",
   "version": "2.7.14"
  }
 },
 "nbformat": 4,
 "nbformat_minor": 1
}
