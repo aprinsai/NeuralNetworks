{
 "cells": [
  {
   "cell_type": "markdown",
   "metadata": {},
   "source": [
    "# Final project: Competition\n",
    "\n",
    "\n",
    "    Hand-in bug-free (try \"Kernel\" > \"Restart & Run All\") and including all (textual as well as figural) output via Blackboard before the deadline (see Blackboard).\n",
    "    \n",
    "Learning goals:\n",
    "1. Build your own state-of-the-art artificial neural network\n",
    "1. Work on a real-world problem definition\n",
    "1. Work in a machine learning competition framework"
   ]
  },
  {
   "cell_type": "markdown",
   "metadata": {},
   "source": [
    "The final assignment is a neural network competition. Your task is to classify categories of clothing on the Fashion-MNIST data set, which has recently been proposed as a more challenging alternative to the standard MNIST dataset. For a more detailed description, some illustrations of the categories, reasons why Fashion-MNIST might be a better benchmark dataset than the classic MNIST dataset, and more, you can check [their GitHub](https://github.com/zalandoresearch/fashion-mnist). \n",
    "\n",
    "The competition is set up as an InClass competition [on Kaggle](https://www.kaggle.com/t/de281a20013a41a3ab724ec020848e23). If you want to continue following the machine learning direction, Kaggle is a great platform for training skills on real-world problems. Via our Kaggle InClass competition, you will be provided with a training and a validation dataset for your own (local) use, and with the features of the competition test set, for which you will generate predictions top be submitted to Kaggle. \n",
    "\n",
    "In this notebook, we provide a code basis which loads the dataset, trains a simple model, and writes the competition test set predictions into the file `test_set_predictions.csv`. This is the file you will create with your own model, and that you should submit to the competition website. \n",
    "\n",
    "The test dataset that we provide you with, contains approximately 42% of the actual total test data we have. The leaderboard will, during the competition, show the performance of your model on this 42% split. Please note, that the final results will be based on the other 58%. This means that overfitting the provided test dataset using the leaderboard will highly likely result in a poor performance on the final evaluation. This also means that the final standings may be different. The final evaluation will be performed after the deadline. \n",
    "\n",
    "Based on the final evaluation, the Top 6 project groups will earn the following bonus on their assignment grades (and eternal fame): \n",
    "1. **Top 1 and 2** will receive +1.0 on their overall assignment grade. \n",
    "1. **Top 3 and 4** will receive +0.5 on their overall assignment grade. \n",
    "1. **Top 5 and 6** will receive +0.3 on their overall assignment grade. \n",
    "*(Note that the maximum average assignment grade you can reach is 10)*\n",
    "\n",
    "If you think that it is necessary you can implement and run your model in a normal Python script, however you need to paste the finalized code including the exercises in this notebook **inside this notebook**. Thus, this final assignment is nothing more than the other assignments: you submit a single notebook file to Blackboard before the deadline, and the assignment counts as the last assignment in the list of all assignments. "
   ]
  },
  {
   "cell_type": "markdown",
   "metadata": {},
   "source": [
    "### Exercise 1 (1 point)\n",
    "\n",
    "1. **Create an account** for your group on Kaggle. Set your `Display Name` to your group number - using the format: `Group07`, `Group42`. You can also use your existing Kaggle account. Just temporarily change your `Display Name` to the group name. \n",
    "\n",
    "1. **Join our InClass competition** [on the Kaggle website](https://www.kaggle.com/t/de281a20013a41a3ab724ec020848e23). \n",
    "\n",
    "1. **Download the dataset** (python pickle) and the example submission from the 'data' tab at the competition webstite. \n",
    "\n",
    "1. After doing all the above, **submit the example submission** file `sampleSubmission.csv`. You do so by clicking 'Submit Predictions'. Here, you can upload the submission file, and also annotate it with versioning information or so.\n",
    "\n",
    "You will receive the point for this exercise if we see your group name in the leaderboard. "
   ]
  },
  {
   "cell_type": "markdown",
   "metadata": {},
   "source": [
    "### Exercise 2 (1.5 points)\n",
    "\n",
    "**Implement your neural network** within python 2.0 using the chainer library, just like all other assignments. Below, we have provided some preliminary code from which you can start. For instance, you could improve or use: \n",
    "\n",
    "* the neural network in the model class (obviously)\n",
    "* the types of the [neural network layers](https://docs.chainer.org/en/stable/reference/links.html) (also check [this website to get some intuition](https://github.com/vdumoulin/conv_arithmetic))\n",
    "* the objective function\n",
    "* various types of preprocessing including [z-standardisation](http://scikit-learn.org/stable/modules/preprocessing.html) and data augmentation\n",
    "* weight initialization\n",
    "* prevention of overfitting via cross-validation\n",
    "* batch normalization\n",
    "* early stopping\n",
    "* regularization hooks (L1, L2)\n",
    "* dropout\n",
    "* and much more\n",
    "\n",
    "Most of these are small tricks that are easy to look up and add to your model. And most of them are implemented in state-of-the-art neural networks frameworks. Check [this page](http://lamda.nju.edu.cn/weixs/project/CNNTricks/CNNTricks.html) for a brief summary of many common tricks including  code. "
   ]
  },
  {
   "cell_type": "markdown",
   "metadata": {},
   "source": [
    "### Exercise 3 (1 point)\n",
    "\n",
    "Make an informed choice for your `optimizer`. A good guide on various optimizers can be found [here](http://ruder.io/optimizing-gradient-descent/). Not all, but most of them are implemented in chainer. **Explain** why you have chosen this particular optimizer. "
   ]
  },
  {
   "cell_type": "markdown",
   "metadata": {},
   "source": [
    "Stochastic gradient descent computes the expectations by randomly sampling a small number of examples from the dataset and it takes the average over those examples. This process is repeated until all examples are encountered. SGD converges much faster than batch gradient descent. The objective function can fluctuate heavily which causes SGD to jump to new and potentially better local minima, but this can cause SGD to overshoot. All in all, SGD is relatively fast which was a big plus for us and we have seen SGD before which helped us understand. The learning rate we chose was acquired by trying out different values. First we tried 0.05 which did not perform that well, 0.2 performed pretty well and 0.1 was even better.\n",
    "\n",
    "We realized that we were overfitting on the training data so we tried to reduce overfitting by using L2 regularization, which helped."
   ]
  },
  {
   "cell_type": "markdown",
   "metadata": {},
   "source": [
    "### Exercise 4 (2 points)\n",
    "\n",
    "**Explain** your neural network implementation in a structured way. Clearly motivate your choices. For instance, motivate the architecture (number and type of layers, number of units, non-linearities, extensions like dropout, etc.). "
   ]
  },
  {
   "cell_type": "markdown",
   "metadata": {},
   "source": [
    "For our neural network we chose to use two convolutional layers, one fully connected layer and one layer for batch normalization.  \n",
    "\n",
    "We chose convolutional layers since we are working on an image recognition task and convolutional neural networks tend to perform well in this area. We started out with a single convolutional layer but later added another one, which improved the performance. We use a stride of 2 on both layers, because it is slighty faster than a stride of 1 but still has a high accuracy.\n",
    "\n",
    "We use a fully connected linear layer to map to the output units. This is typically done and used to classify the data.  \n",
    "The layer for batch normalization speeds up the learning."
   ]
  },
  {
   "cell_type": "markdown",
   "metadata": {},
   "source": [
    "### Exercise 5 (3.5 points)\n",
    "\n",
    "**Evaluate** the performance of your model on the **local test set**. \n",
    "\n",
    "As a minimum, you should: \n",
    "1. Plot the training vs. test accurracy across training epochs and embed the resulting plot here. \n",
    "1. Plot some of the weights that your model has learned in the first layer.\n",
    "1. Show 3 examples from the local test set that the model was unable to classify correctly.  (Check for which images real labels and predicted labels do not match. Plot the corresponding images.)\n",
    "1. (Text question) Did your model perform well or not? Based on your observations, which architectural choices do you think have influenced performance most?"
   ]
  },
  {
   "cell_type": "markdown",
   "metadata": {},
   "source": [
    "*The plots and examples are shown below the run log.*\n",
    "\n",
    "Our model performed fairly well. The convolutional layers on their own already managed to do pretty well, and with batch normalization the training was faster, and the L2  regularization prevented overfitting, which was a problem we had. All in all, the choice to use convolutional layers was the most influencial. "
   ]
  },
  {
   "cell_type": "markdown",
   "metadata": {},
   "source": [
    "### Exercise 6 (1 point)\n",
    "\n",
    "**Submit** `test_set_predictions.txt` to the [Kaggle competition website](https://www.kaggle.com/t/de281a20013a41a3ab724ec020848e23). You can submit the file twice a day to check your position in the leaderboard, and to improve your position. You will receive this point if we see a reasonable submission attempt online. "
   ]
  },
  {
   "cell_type": "markdown",
   "metadata": {},
   "source": [
    "### Code basis\n"
   ]
  },
  {
   "cell_type": "markdown",
   "metadata": {},
   "source": [
    "#### Imports and dataset\n",
    "\n",
    "Note, we have `train_features` and `train_labels` which you can use to train your model, `local_test_features` and `local_test_labels` which you can use to validate your model locally, and `kaggle_test_features`, which is the dataset for which you need to generate predictions and submit to the online Kaggle competition to obtain a performance for the leaderboard. "
   ]
  },
  {
   "cell_type": "code",
   "execution_count": 1,
   "metadata": {},
   "outputs": [],
   "source": [
    "% matplotlib inline\n",
    "import matplotlib.pyplot as plt\n",
    "import numpy as np\n",
    "import chainer\n",
    "import csv, pickle\n",
    "\n",
    "from chainer import cuda, Function, gradient_check, report, training, utils, Variable\n",
    "from chainer import datasets, iterators, optimizers, serializers\n",
    "from chainer import Link, Chain, ChainList\n",
    "import chainer.functions as F\n",
    "import chainer.links as L\n",
    "import chainer.datasets as D\n",
    "from chainer.training import extensions\n",
    "\n",
    "from sklearn import preprocessing"
   ]
  },
  {
   "cell_type": "code",
   "execution_count": 37,
   "metadata": {},
   "outputs": [
    {
     "data": {
      "text/plain": [
       "<matplotlib.image.AxesImage at 0x2cfe6128>"
      ]
     },
     "execution_count": 37,
     "metadata": {},
     "output_type": "execute_result"
    },
    {
     "data": {
      "image/png": "[encoded data removed]",
      "text/plain": [
       "<matplotlib.figure.Figure at 0x6b217f0>"
      ]
     },
     "metadata": {},
     "output_type": "display_data"
    }
   ],
   "source": [
    "# Load the dataset\n",
    "with open('competition_data.pkl', 'rb') as handle:\n",
    "    competition_data = pickle.load(handle)\n",
    "\n",
    "# Training data\n",
    "train_features = competition_data['train_features'].astype('float32')\n",
    "train_labels = competition_data['label_train'].astype('int8')\n",
    "\n",
    "# Local test data\n",
    "local_test_features = competition_data['local_test_features'].astype('float32')\n",
    "local_test_labels = competition_data['local_test_labels'].astype('int8')\n",
    "\n",
    "# Kaggle feature data\n",
    "kaggle_test_features = competition_data['kaggle_test_features'].astype('float32')\n",
    "\n",
    "# Show data example\n",
    "plt.figure()\n",
    "plt.imshow(train_features[123].reshape([28,28]), cmap='gray')"
   ]
  },
  {
   "cell_type": "code",
   "execution_count": 3,
   "metadata": {
    "collapsed": true
   },
   "outputs": [],
   "source": [
    "train_features_new_dim = np.expand_dims(train_features, axis = 1)\n",
    "local_test_features_new_dim = np.expand_dims(local_test_features, axis = 1)"
   ]
  },
  {
   "cell_type": "code",
   "execution_count": 4,
   "metadata": {
    "collapsed": true
   },
   "outputs": [],
   "source": [
    "# Create chainer datasets\n",
    "train = D.TupleDataset(train_features_new_dim, train_labels)\n",
    "test = D.TupleDataset(local_test_features_new_dim, local_test_labels)\n",
    "\n",
    "# Create chainer iterators\n",
    "train_iter = iterators.SerialIterator(train, batch_size=100, shuffle=True)\n",
    "test_iter = iterators.SerialIterator(test, batch_size=100, repeat=False, shuffle=False)"
   ]
  },
  {
   "cell_type": "markdown",
   "metadata": {},
   "source": [
    "#### Model classes\n",
    "\n",
    "Note, you do not necessarily need to use the templates as provided here. Use them as a starting point instead. Logistic regression can be framed as a neural network, which we provide below. Note that SVMs and decision trees are not allowed here. "
   ]
  },
  {
   "cell_type": "code",
   "execution_count": 5,
   "metadata": {
    "collapsed": true
   },
   "outputs": [],
   "source": [
    "# Implement the neural network for your competition here:\n",
    "class CompetitionNetwork(Chain):\n",
    "    def __init__(self, n_out, n_units):\n",
    "        super(CompetitionNetwork, self).__init__()\n",
    "        with self.init_scope():\n",
    "            # the size of the inputs to each layer will be inferred\n",
    "            self.conv1 = L.Convolution2D(None, n_units, stride = 2, ksize = 14)  # n_in -> n_units\n",
    "            self.conv2 = L.Convolution2D(None, n_units, stride = 2, ksize = 7)  # n_units -> n_units\n",
    "            self.l3 = L.Linear(None, n_out)    # n_units -> n_out\n",
    "            self.norm = L.BatchNormalization(n_units)\n",
    "\n",
    "    def __call__(self, x):\n",
    "        h1 = F.relu(self.conv1(x))\n",
    "        hnorm1 = F.relu(self.norm(h1))\n",
    "        h2 = F.max_pooling_2d(hnorm1, ksize = 2)\n",
    "        hnorm2 = F.relu(self.norm(h2))\n",
    "        h3 = F.relu(self.conv2(x))\n",
    "        hnorm3 = F.relu(self.norm(h3))\n",
    "        h4 = F.max_pooling_2d(hnorm3, ksize = 2)\n",
    "        hnorm4 = F.relu(self.norm(h4))\n",
    "        y = self.l3(hnorm3)\n",
    "        return y\n",
    "    \n",
    "# Linear regression model for testing the competition process:\n",
    "class LinearRegression(Chain):\n",
    "    def __init__(self, n_out):\n",
    "        super(LinearRegression, self).__init__()\n",
    "        with self.init_scope():\n",
    "            self.lr = L.Linear(None, n_out)\n",
    "\n",
    "    def __call__(self, x):\n",
    "        y = self.lr(x)\n",
    "        return y\n",
    "\n",
    "# The classifier setup, including the objective/loss function\n",
    "class Classifier(Chain):\n",
    "    def __init__(self, predictor):\n",
    "        super(Classifier, self).__init__()\n",
    "        with self.init_scope():\n",
    "            self.predictor = predictor\n",
    "\n",
    "    def __call__(self, x, t):\n",
    "        y = self.predictor(x)\n",
    "        loss = F.softmax_cross_entropy(y, t) # The objective function\n",
    "        accuracy = F.accuracy(y, t)\n",
    "        report({'loss': loss, 'accuracy': accuracy}, self)\n",
    "        return loss\n",
    "    \n",
    "    def predict(self, x):  \n",
    "        yclass = F.softmax( self.predictor(x) ).data.argmax(axis=1)\n",
    "        return yclass"
   ]
  },
  {
   "cell_type": "markdown",
   "metadata": {},
   "source": [
    "#### Set up optimizer and run training"
   ]
  },
  {
   "cell_type": "code",
   "execution_count": 7,
   "metadata": {},
   "outputs": [
    {
     "name": "stdout",
     "output_type": "stream",
     "text": [
      "epoch       main/accuracy  validation/main/accuracy  main/loss   validation/main/loss\n",
      "1           0.823083       0.799                     0.526425    0.626671              \n",
      "2           0.867183       0.8446                    0.373384    0.489106              \n",
      "3           0.877033       0.8202                    0.342361    0.578476              \n",
      "4           0.88565        0.8298                    0.322368    0.539583              \n",
      "5           0.88935        0.8596                    0.308191    0.437573              \n",
      "6           0.891417       0.8412                    0.3007      0.51878               \n",
      "7           0.895733       0.8548                    0.291549    0.502752              \n",
      "8           0.895583       0.8424                    0.287264    0.525579              \n",
      "9           0.898083       0.85                      0.282051    0.541024              \n",
      "10          0.8998         0.8578                    0.276566    0.503733              \n",
      "11          0.902617       0.8206                    0.272024    0.734694              \n",
      "12          0.901383       0.8442                    0.271011    0.541026              \n",
      "13          0.901933       0.849                     0.267894    0.561522              \n",
      "14          0.90465        0.8582                    0.26473     0.56933               \n",
      "15          0.904917       0.8502                    0.263428    0.575707              \n",
      "16          0.90445        0.8256                    0.260912    0.700187              \n",
      "17          0.905733       0.8564                    0.258724    0.544553              \n",
      "18          0.906217       0.8406                    0.255824    0.683334              \n",
      "19          0.907217       0.8656                    0.257523    0.559228              \n",
      "20          0.907933       0.8308                    0.25423     0.757129              \n",
      "21          0.908517       0.8548                    0.252137    0.646298              \n",
      "22          0.90885        0.8384                    0.251672    0.694256              \n",
      "23          0.909417       0.8448                    0.249444    0.682044              \n",
      "24          0.908667       0.8564                    0.25031     0.584127              \n",
      "25          0.911017       0.8604                    0.246863    0.560737              \n",
      "26          0.91025        0.856                     0.247484    0.617672              \n",
      "27          0.9112         0.8618                    0.246076    0.567275              \n",
      "28          0.910283       0.8576                    0.246133    0.553215              \n",
      "29          0.910367       0.8666                    0.24745     0.539225              \n",
      "30          0.912567       0.8606                    0.244119    0.616951              \n",
      "31          0.91255        0.8494                    0.243314    0.698221              \n",
      "32          0.910317       0.8574                    0.24377     0.667135              \n",
      "33          0.912417       0.8602                    0.241808    0.579556              \n",
      "34          0.911667       0.8702                    0.241909    0.58275               \n",
      "35          0.911267       0.8604                    0.24233     0.599968              \n",
      "36          0.912          0.8534                    0.243146    0.6955                \n",
      "37          0.912          0.8598                    0.2409      0.590043              \n",
      "38          0.913017       0.8432                    0.238118    0.678412              \n",
      "39          0.912417       0.814                     0.241235    0.864513              \n",
      "40          0.913333       0.8454                    0.239829    0.788159              \n",
      "41          0.91365        0.8492                    0.237112    0.708184              \n",
      "42          0.913733       0.8552                    0.237835    0.652423              \n",
      "43          0.913883       0.844                     0.238361    0.731004              \n",
      "44          0.913433       0.8564                    0.236834    0.645243              \n",
      "45          0.913717       0.843                     0.236438    0.76917               \n",
      "46          0.9135         0.847                     0.23683     0.745295              \n",
      "47          0.913967       0.846                     0.236829    0.717065              \n",
      "48          0.913283       0.8336                    0.236865    0.796773              \n",
      "49          0.914283       0.8514                    0.234658    0.730336              \n",
      "50          0.914217       0.8494                    0.236699    0.682276              \n"
     ]
    }
   ],
   "source": [
    "# Setup model\n",
    "model = Classifier(CompetitionNetwork(n_out=10,n_units=16))   # replace this with CompetitionNetwork\n",
    "\n",
    "# Setup optimizer\n",
    "optimizer = optimizers.SGD(lr=0.1)\n",
    "optimizer.setup(model)\n",
    "optimizer.add_hook(chainer.optimizer.WeightDecay(rate=0.001)) \n",
    "\n",
    "# Setup trainer\n",
    "updater = training.StandardUpdater(train_iter, optimizer)\n",
    "trainer = training.Trainer(updater, (50, 'epoch'), out='competition_output')\n",
    "\n",
    "# Add local validation set\n",
    "trainer.extend(extensions.Evaluator(test_iter, model))\n",
    "\n",
    "# Print/log results\n",
    "trainer.extend(extensions.LogReport())\n",
    "trainer.extend(extensions.PrintReport([\"epoch\", \"main/accuracy\", \"validation/main/accuracy\",  \"main/loss\", \"validation/main/loss\"]))\n",
    "trainer.extend(extensions.PlotReport(['main/accuracy', 'validation/main/accuracy'],'epoch', file_name='accuracy.png'))\n",
    "# Start training\n",
    "trainer.run()"
   ]
  },
  {
   "cell_type": "code",
   "execution_count": 9,
   "metadata": {
    "collapsed": true
   },
   "outputs": [],
   "source": [
    "kaggle_test_features_new_dim = np.expand_dims(kaggle_test_features, axis = 1)"
   ]
  },
  {
   "cell_type": "markdown",
   "metadata": {},
   "source": [
    "#### Plots\n",
    "Below, the main accuracy and validation accuracy are plotted against the epochs"
   ]
  },
  {
   "cell_type": "markdown",
   "metadata": {},
   "source": [
    "![title](competition_output/accuracy.png)"
   ]
  },
  {
   "cell_type": "code",
   "execution_count": 11,
   "metadata": {},
   "outputs": [
    {
     "data": {
      "image/png": "[encoded data removed]",
      "text/plain": [
       "<matplotlib.figure.Figure at 0x2f771080>"
      ]
     },
     "metadata": {},
     "output_type": "display_data"
    }
   ],
   "source": [
    "### Plot weights\n",
    "W1 = model.predictor.conv1.W.data\n",
    "fig, ax = plt.subplots(16,1, figsize=(20, 40))\n",
    "i = 0\n",
    "for im in ax:\n",
    "    im.imshow(W1[i,:].reshape((14,14)), cmap=\"gray\")\n",
    "    im.set_xticks([],[])\n",
    "    im.set_yticks([],[])\n",
    "    i+=1"
   ]
  },
  {
   "cell_type": "code",
   "execution_count": 93,
   "metadata": {},
   "outputs": [
    {
     "data": {
      "image/png": "[encoded data removed]",
      "text/plain": [
       "<matplotlib.figure.Figure at 0x292568d0>"
      ]
     },
     "metadata": {},
     "output_type": "display_data"
    }
   ],
   "source": [
    "### Predict local test\n",
    "local_test_features_new_dim =np.expand_dims(local_test_features, axis = 1)\n",
    "local_test_predicted_labels = model.predict(local_test_features_new_dim)\n",
    "\n",
    "\n",
    "### The list of labels and the corresponding item of clothing. Taken from their git.\n",
    "labels = [\"T-shirt/top\",\"Trouser\",\"Pullover\", \"Dress\", \"Coat\", \"Sandal\", \"Shirt\", \"Sneaker\", \"Bag\", \"Ankle boot\"]\n",
    "\n",
    "# Plotting predicted examples.\n",
    "i = 0\n",
    "fig, ax = plt.subplots(3,1, figsize=(10, 20))\n",
    "\n",
    "### Kind of a mess, but all these arrays made it easier to try\n",
    "indices = [194,31,1]\n",
    "examples = [local_test_features_new_dim[indices[0]],local_test_features_new_dim[indices[1]],local_test_features_new_dim[indices[2]]]\n",
    "test_labels = [local_test_labels[indices[0]],local_test_labels[indices[1]],local_test_labels[indices[2]]]\n",
    "\n",
    "for im in ax:\n",
    "    im.imshow(examples[i].reshape([28,28]), cmap='gray')\n",
    "    im.set_title(\"example {}\\n predicted: {}\\n actual: {}\".format(i+1,labels[local_test_predicted_labels[indices[i]]],labels[test_labels[i]]))\n",
    "    im.set_xticks([],[])\n",
    "    im.set_yticks([],[])\n",
    "    i += 1"
   ]
  },
  {
   "cell_type": "markdown",
   "metadata": {},
   "source": [
    "#### Predict on competition data set and write submission file\n",
    "\n",
    "Note that the submission file is a simple CSV file which contains two columns: The item `ID` and the predicted `class` label. With the code below, you can transform the vector of predictions into the required submission file. Submit this CSV file manually to the competition website."
   ]
  },
  {
   "cell_type": "code",
   "execution_count": 12,
   "metadata": {
    "collapsed": true
   },
   "outputs": [],
   "source": [
    "# Predict labels of the kaggle test dataset using the trained model\n",
    "kaggle_test_predicted_labels = model.predict(kaggle_test_features_new_dim)"
   ]
  },
  {
   "cell_type": "code",
   "execution_count": null,
   "metadata": {
    "collapsed": true
   },
   "outputs": [],
   "source": [
    "# Write the submission file\n",
    "f = open(\"kaggle_test_predicted_labels.csv\", \"w\")\n",
    "w = csv.writer(f, delimiter=',')\n",
    "w.writerow(['ID','class'])\n",
    "for item_id in xrange(kaggle_test_features.shape[0]):\n",
    "    w.writerow([item_id, kaggle_test_predicted_labels[item_id]])\n",
    "f.close()"
   ]
  },
  {
   "cell_type": "code",
   "execution_count": null,
   "metadata": {
    "collapsed": true
   },
   "outputs": [],
   "source": []
  }
 ],
 "metadata": {
  "anaconda-cloud": {},
  "kernelspec": {
   "display_name": "Python 2",
   "language": "python",
   "name": "python2"
  },
  "language_info": {
   "codemirror_mode": {
    "name": "ipython",
    "version": 2
   },
   "file_extension": ".py",
   "mimetype": "text/x-python",
   "name": "python",
   "nbconvert_exporter": "python",
   "pygments_lexer": "ipython2",
   "version": "2.7.13"
  }
 },
 "nbformat": 4,
 "nbformat_minor": 1
}
