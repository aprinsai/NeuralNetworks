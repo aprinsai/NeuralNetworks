{
 "cells": [
  {
   "cell_type": "markdown",
   "metadata": {},
   "source": [
    "# Chapter 4\n",
    "## Autoencoder"
   ]
  },
  {
   "cell_type": "markdown",
   "metadata": {},
   "source": [
    "\n",
    "\n",
    "    Hand-in bug-free (try \"Kernel\" > \"Restart & Run All\") and including all (textual as well as figural) output via Blackboard before the deadline (see Blackboard).\n",
    "    \n",
    "Learning goals:\n",
    "1. Derive and implement the mean-squared-error loss function and the rectified linear activation function\n",
    "1. Implement an autoencoder as a neural network with unsupervised learning\n",
    "1. Check what face features the autoencoder has learned to encode in the hidden units"
   ]
  },
  {
   "cell_type": "markdown",
   "metadata": {},
   "source": [
    "### Notes on the architecture\n",
    "\n",
    "The autoencoder network that you are about to implement has the same structure as in the MLP exercise: The input, hidden, and output node layers are connected with two weight layers. This time, the $n_h$ hidden layer nodes use a *rectified linear* activation function, and the output units use *linear* activations. \n",
    "\n",
    "The data set is the Yale Face Database, which is a small set of grayscale photos of faces, each showing a different facial expression. The autoencoder will have as many input and output units as there are pixels. The hidden layer has far less units, as our goal is to learn a compressed representation of faces. The autoencoders job is \"learning to reconstruct\", that is, learning to reconstruct the face at the input units in the output units, after passing the information through the hidden units. Basically this means that `X` and `Y` are equal here. "
   ]
  },
  {
   "cell_type": "markdown",
   "metadata": {},
   "source": [
    "### Exercise 1: Mean squared error (1 point)"
   ]
  },
  {
   "cell_type": "markdown",
   "metadata": {},
   "source": [
    "As we want to predict pixel values we have a regression problem, and MSE is a convenient loss function for regression problems. MSE is large when the prediction is off, and near zero when the prediction is most similar to the target. The mean squared error (MSE) is given by:\n",
    "$$L = \\frac{1}{2N} \\sum^N (t^{(n)} - y^{(n)})^2$$\n",
    "Here, $t^{(n)}$ is the target vector, and $y^{(n)}$ the prediction of the $n$th example. \n",
    "\n",
    "We need the derivative of the MSE with respect to $y$ to do gradient descent (i.e., backpropagation) to tweak the parameters (i.e., the weights) for regression. Derive the MSE with respect to $y$, i.e. derive $\\frac{\\partial L}{\\partial y}$. You can ignore the batch index $n$ ($N = 1$)."
   ]
  },
  {
   "cell_type": "markdown",
   "metadata": {},
   "source": [
    "### Solution 1:\n",
    "$$\\frac{\\partial L}{\\partial y} = -1*\\frac{2}{2}(t - y)$$\n",
    "$$ = -(t - y) $$\n",
    "$$ = (y-t) $$"
   ]
  },
  {
   "cell_type": "markdown",
   "metadata": {},
   "source": [
    "# Exercise 2: The rectified linear unit activation function (ReLU) (1 point)\n",
    "The rectified linear activation function is given by:\n",
    "$$f(a) = max(0, a)$$\n",
    "\n",
    "Obtain its derivative $\\frac{\\partial f}{\\partial a}$. \n",
    "\n",
    "Hint: It is a simple conditional expression (two cases)."
   ]
  },
  {
   "cell_type": "markdown",
   "metadata": {},
   "source": [
    "### Solution 2:\n",
    "$$\n",
    "f(a) = \n",
    "\\begin{cases}\n",
    "    a, & \\text{if } a > 0 \\\\\n",
    "    0, & \\text{otherwise}\n",
    "\\end{cases}\n",
    "$$\n",
    "So the derivative:\n",
    "$$\n",
    "\\frac{\\partial f}{\\partial a} = \n",
    "\\begin{cases}\n",
    "    1, & \\text{if } a > 0 \\\\\n",
    "    0, & \\text{otherwise}\n",
    "\\end{cases}\n",
    "$$"
   ]
  },
  {
   "cell_type": "markdown",
   "metadata": {},
   "source": [
    "### Exercise 3: The forward pass (1 point)\n",
    "The network is defined as having two layers $w_1$ and $w_2$, where $w_1$ connects the input $x$ with the hidden layer $h$, and $w_2$ connects the hidden layer $h$ with the output layer $y$. For the hidden layer, we use rectified linear units with the activation function $f(a) = max(0, a)$. The output layer is just a linear layer (with the linear activation function $g(a) = a$). Write down the expressions for $a_1$, $h$, $a_2$, and $y$, where $a_1$ and $a_2$ are the activities of the hidden and output layer before passing them through the rectified linear and linear activations, respectively."
   ]
  },
  {
   "cell_type": "markdown",
   "metadata": {},
   "source": [
    "### Solution 3:\n",
    "\\begin{eqnarray*}\n",
    "a_1 &=& xw^1 \\\\\n",
    "h &=& f(a_1) = max(0,a_1) \\\\\n",
    "a_2 &=& hw^2 \\\\\n",
    "y &=& g(a_2) = a_2\n",
    "\\end{eqnarray*}"
   ]
  },
  {
   "cell_type": "markdown",
   "metadata": {},
   "source": [
    "### Exercise 4: Gradient of the last layer (1 point)\n",
    "To compute the partial derivatives on the weights $w_2$ of the last layer, we have to propagate from the error function back through the non-linearity to the weights. Derive the chain of partial derivatives to compute $\\frac{\\partial L}{\\partial w_2}$."
   ]
  },
  {
   "cell_type": "markdown",
   "metadata": {},
   "source": [
    "### Solution 4\n",
    "$$ \\frac{\\partial L}{\\partial w_2} = \\frac{\\partial L}{\\partial y}\\frac{\\partial y}{\\partial w_2}$$\n",
    "$$ \\frac{\\partial L}{\\partial y} = (y-t) $$\n",
    "$$ \\frac{\\partial y}{\\partial w_2} = \\frac{\\partial a_2}{\\partial w_2} = h$$\n",
    "So:\n",
    "$$ \\frac{\\partial L}{\\partial w_2} = (y-t)h $$"
   ]
  },
  {
   "cell_type": "markdown",
   "metadata": {},
   "source": [
    "### Exercise 5: Gradient of the first layer (1 point)\n",
    "To compute the partial derivatives on the weights $w_1$ of the first layer, we have to propagate the error even further down the network. Derive the chain of partial derivatives to compute $\\frac{\\partial L}{\\partial w_1}$.\n",
    "\n",
    "Due to the 4 intermediate variables $y$, $a_2$, $h$ and $a_1$ the chain rule product will have 5 terms. Due do the derivative of the rectified linear activation, which is a conditional expression; you will end up with a conditional expression here too:\n",
    "\n",
    "\\begin{eqnarray*}\n",
    "\\frac{\\partial L}{\\partial w_1} &=& \n",
    "\\begin{cases}\n",
    "    ?, & \\text{if } a_1 > 0 \\\\\n",
    "    ?, & \\text{otherwise}\n",
    "\\end{cases}\n",
    "\\end{eqnarray*}"
   ]
  },
  {
   "cell_type": "markdown",
   "metadata": {},
   "source": [
    "### Solution 5\n",
    "\\begin{eqnarray*}\n",
    "\\frac{\\partial L}{\\partial w_1} &=& \\frac{\\partial L}{\\partial y}\\frac{\\partial y}{\\partial a_2}\\frac{\\partial a_2}{\\partial h}\\frac{\\partial h}{\\partial a_1}\\frac{\\partial a_1}{\\partial w_1}\\\\\n",
    "\\frac{\\partial L}{\\partial y} &=& (y-t) \\\\\n",
    "\\frac{\\partial y}{\\partial a_2} &=& 1 \\\\\n",
    "\\frac{\\partial a_2}{\\partial h} &=& w^2 \\\\\n",
    "\\frac{\\partial h}{\\partial a_1} &=& \n",
    "\\begin{cases}\n",
    "    1, & \\text{if } a_1 > 0 \\\\\n",
    "    0, & \\text{otherwise}\n",
    "\\end{cases} \\\\\n",
    "\\frac{\\partial a_1}{\\partial w_1} &=& x \\\\\n",
    "\\end{eqnarray*}\n",
    "So, all together this becomes:\n",
    "\\begin{eqnarray*}\n",
    "\\frac{\\partial L}{\\partial w_1} &=& \n",
    "\\begin{cases}\n",
    "    (y-t)w^2x, & \\text{if } a_1 > 0 \\\\\n",
    "    0, & \\text{otherwise}\n",
    "\\end{cases}\n",
    "\\end{eqnarray*}"
   ]
  },
  {
   "cell_type": "markdown",
   "metadata": {},
   "source": [
    "### Exercise 6: Implementation (2.5 points)\n",
    "Now we can start implementing the autoencoder. Write the following functions:\n",
    "1. `mean_squared_error(Y, X)`: Computes the mean squared error. You need to sum over the pixel axis 0, and then mean  the result over the examples.\n",
    "1. `relu(A)`: Passes the activity `A` through the rectified linear unit. Use [`np.maximum`](https://docs.scipy.org/doc/numpy/reference/generated/numpy.maximum.html) to compare each element of A to 0.\n",
    "1. `linear(X, W)`: Computes the activities `A` as `X` weighted by `W`. Just like in the previous exercises. \n",
    "1. `forward(X, W1, W2)`: Computes the forward pass for the two-layer AE with the `relu(A)` function at the hidden units. As the linear activation is just the trivial identity there is no activation function at the output units. Returns `A1`, `H` and `Y`. \n",
    "1. `backward(X, A1, H, Y, W2)`: Computes the backward pass for the two-layer AE with ReLU hidden units and MSE. The conditional can be realized by multiplying with the boolean matrix `(A1 > 0)`. \n",
    "1. `train_network(X_train, X_val,n_hidden, n_epochs, eta)`: Implement the training procedure (learn the weights). See the skeleton code for some help. Note that we have supplied a `initialize_weights(n_in, n_out)` function to initialize weights in the range from the MLP assignment. Remember that the input is equal to the output, so we do not need anything but `X_train` for training. \n",
    "\n",
    "Feel free to copy some code from the previous exercises."
   ]
  },
  {
   "cell_type": "markdown",
   "metadata": {},
   "source": [
    "### Solution 6"
   ]
  },
  {
   "cell_type": "code",
   "execution_count": 2,
   "metadata": {
    "collapsed": true
   },
   "outputs": [],
   "source": [
    "%matplotlib inline\n",
    "import matplotlib.pyplot as plt\n",
    "import numpy as np\n",
    "import os\n",
    "from PIL import Image"
   ]
  },
  {
   "cell_type": "code",
   "execution_count": 3,
   "metadata": {
    "collapsed": true
   },
   "outputs": [],
   "source": [
    "def initialize_weights(n_in, n_out):\n",
    "    \"\"\"\n",
    "    Initializes a weight matrix.\n",
    "    INPUT:\n",
    "        n_in  = [int] number of input units.\n",
    "        n_out = [int] number of output units\n",
    "    OUTPUTS\n",
    "        W = [n_out n_in] the initial weight matrix\n",
    "    \"\"\"\n",
    "    r = np.sqrt(6) / np.sqrt(n_out + n_in)\n",
    "    return np.random.uniform(-r, r, [n_out, n_in])"
   ]
  },
  {
   "cell_type": "code",
   "execution_count": 4,
   "metadata": {
    "collapsed": true
   },
   "outputs": [],
   "source": [
    "def mean_squared_error(Y, X):\n",
    "    \"\"\"\n",
    "    Computes the mean squared error.\n",
    "    INPUT:\n",
    "        Y = [P N] output vector for N examples of length P\n",
    "        X = [P N] target vector for N examples of length P\n",
    "    OUTPUTS\n",
    "        L = [flt] the MSE\n",
    "    \"\"\"\n",
    "    P, N = Y.shape\n",
    "    L =  np.mean(np.sum((X-Y)**2, axis = 0) * 1/(2*N))\n",
    "    ## The 'double' mean makes sense, because we're first taking the mean per pixel in a row, and then take the mean per row. ## \n",
    "    return L"
   ]
  },
  {
   "cell_type": "code",
   "execution_count": 5,
   "metadata": {
    "collapsed": true
   },
   "outputs": [],
   "source": [
    "def relu(A):\n",
    "    \"\"\"\n",
    "    Computes the rectified linear activation.\n",
    "    INPUT:\n",
    "        A = [K N] activity matrix of K units for N examples\n",
    "    OUTPUT\n",
    "        Y = [K N] output matrix of K units for N examples\n",
    "    \"\"\"\n",
    "    Y = np.maximum(0, A)\n",
    "    return Y"
   ]
  },
  {
   "cell_type": "code",
   "execution_count": 6,
   "metadata": {
    "collapsed": true
   },
   "outputs": [],
   "source": [
    "def linear(X, W):\n",
    "    \"\"\"\n",
    "    Computes the activities for a fully connected layer.\n",
    "    INPUT:\n",
    "        X = [P N] data matrix of P input units for N examples\n",
    "        W = [Q P] weight matrix of P inputs to Q outputs\n",
    "    OUTPUT\n",
    "        A = [Q N] activity matrix of Q output units for N examples\n",
    "    \"\"\"\n",
    "    A = np.dot(W,X)\n",
    "    return A"
   ]
  },
  {
   "cell_type": "code",
   "execution_count": 7,
   "metadata": {
    "collapsed": true
   },
   "outputs": [],
   "source": [
    "def forward(X, W1, W2):\n",
    "    \"\"\"\n",
    "    Computes the forward pass for a two-layer AE with relu hidden units.\n",
    "    INPUT\n",
    "        X  = [P N] data matrix of P inputs for N examples\n",
    "        W1 = [Q P] weight matrix of the first layer from P input pixels to Q outputs\n",
    "        W2 = [P Q] weight vector of the second layer of Q inputs to P output pixels\n",
    "    OUTPUT\n",
    "        A1 = [Q N] linear activations going into the hidden unit activation functions for P pixels and N examples\n",
    "        H  = [Q N] output matrix of Q hidden units for N examples\n",
    "        Y  = [P N] output pixel vectors (reconstructions) for N examples\n",
    "    \"\"\"    \n",
    "    A1 = linear(X,W1)\n",
    "    H = relu(A1)\n",
    "    A2 = linear(H,W2)\n",
    "    Y = A2\n",
    "    ## We know this is double code, but this corresponds more to what we wrote above. \n",
    "    return A1, H, Y"
   ]
  },
  {
   "cell_type": "code",
   "execution_count": 8,
   "metadata": {
    "collapsed": true
   },
   "outputs": [],
   "source": [
    "def backward(X, A1, H, Y, W2):\n",
    "    \"\"\"\n",
    "    Computes the backward pass for a two-layer network with sigmoid and softmax units, and cross-entropy loss.  \n",
    "    INPUT:\n",
    "        X  = [P N] data matrix of P inputs for N examples\n",
    "        A1 = [Q N] \n",
    "        H  = [Q N] output matrix of Q hidden units for N examples\n",
    "        Y  = [P N] output pixel vectors of length P for N examples\n",
    "        W2 = [P Q] weight vector of the second layer of Q inputs to P outputs\n",
    "    OUTPUT\n",
    "        dW1 = [Q P] gradient matrix for the weights of layer 1 of P inputs to Q outputs\n",
    "        dW2 = [P Q] gradient matrix for the weights of layer 2 of Q inputs to P outputs\n",
    "    \"\"\"\n",
    "    dW2 = np.dot(Y-X , np.transpose(H) )\n",
    "    dW1 = np.transpose(W2) * np.dot(A1 > 0,np.transpose((Y-X) * X)) \n",
    "    ## Maybe do A1 last, because it makes most sense logically.\n",
    "    return dW1, dW2"
   ]
  },
  {
   "cell_type": "code",
   "execution_count": 9,
   "metadata": {
    "collapsed": true
   },
   "outputs": [],
   "source": [
    "def train_network(X_train, X_val, n_hidden=30, n_epochs=2000, eta=10**-5):\n",
    "    \"\"\"\n",
    "    Performs the training procedure for a two-layer MLP with ReLU hidden units and MSE.\n",
    "    INPUT:\n",
    "        X_train  = [P N] training data matrix of P inputs for N training examples\n",
    "        X_val    = [P N] validation data matrix of P inputs for N training examples\n",
    "        n_hidden = [int] number of hidden units (default 30)\n",
    "        n_epochs = [int] number of training epochs (default 2000)\n",
    "        eta      = [flt] learning rate (default 10^-5)\n",
    "    OUTPUT:\n",
    "        W1         = [Q P] the learned weights for layer 1 of P inputs to Q outputs\n",
    "        W2         = [P Q] the learned weights for layer 2 of Q inputs to P output pixels\n",
    "        train_loss = [Z 1] the training loss for Z epochs\n",
    "        val_loss   = [Z 1] the validation loss for Z epochs\n",
    "    \"\"\"\n",
    "    \n",
    "    # Initialize W1 and W2 (use initialize_weights())\n",
    "    W1 = initialize_weights(X_train.shape[0], n_hidden) ## Q = n_hidden, P = X_train.shape[0]\n",
    "    W2 = initialize_weights(n_hidden, X_train.shape[0])\n",
    "    # Loop over epochs\n",
    "    train_loss = np.zeros((n_epochs))\n",
    "    val_loss = np.zeros((n_epochs))\n",
    "    print X.shape\n",
    "    \n",
    "    for i_epoch in xrange(n_epochs):\n",
    "        \n",
    "        # Forward pass\n",
    "        A1_train, H_train, Y_train = forward(X_train, W1, W2)\n",
    "        A1_val, H_val, Y_val = forward(X_val, W1, W2)\n",
    "        \n",
    "        # Backward pass\n",
    "        dW1, dW2 = backward(X_train, A1_train, H_train, Y_train, W2)\n",
    "        \n",
    "        # Parameter update\n",
    "        W1 -= eta*dW1\n",
    "        W2 -= eta*dW2\n",
    "        \n",
    "        # Save loss\n",
    "        train_loss[i_epoch] = mean_squared_error(Y_train, X_train)\n",
    "        val_loss[i_epoch] = mean_squared_error(Y_val, X_val)\n",
    "        \n",
    "        # Print progress and loss\n",
    "        if i_epoch % 50 == 0:\n",
    "            print(\"Epoch {}/{}. Train loss: {}. Validation loss: {}.\".format(\n",
    "                1+i_epoch, n_epochs, train_loss[i_epoch], val_loss[i_epoch]))\n",
    "        \n",
    "    return W1, W2, train_loss, val_loss"
   ]
  },
  {
   "cell_type": "markdown",
   "metadata": {},
   "source": [
    "### Loading the data\n",
    "\n",
    "In the next cells we load and prepare the face dataset. We also show example faces from the data set. Then we remove the mean from the data, and divide it by its standard deviation. This process, leading to a data set with zero-mean and unit variance is almost always an important preprocessing step. No information gets lost, but many common machine learning methods expect such *standardized* or *z-transformed* data. "
   ]
  },
  {
   "cell_type": "code",
   "execution_count": 10,
   "metadata": {},
   "outputs": [
    {
     "name": "stdout",
     "output_type": "stream",
     "text": [
      "Dimensions of face data set: (768L, 165L).\n"
     ]
    }
   ],
   "source": [
    "# Read dataset\n",
    "maxsz = [32, 32]\n",
    "X = []\n",
    "i = 0\n",
    "for file_name in os.listdir(os.path.join(os.getcwd(), \"yalefaces\")):\n",
    "    if file_name[:7] != \"subject\":\n",
    "        continue\n",
    "    im = Image.open(os.path.join(os.getcwd(), \"yalefaces\", file_name))\n",
    "    im.thumbnail(maxsz, Image.ANTIALIAS)\n",
    "    data = np.asarray(im)\n",
    "    if i == 0:\n",
    "        sz = data.shape\n",
    "    X.append(np.ndarray.flatten(data))\n",
    "    i += 1\n",
    "X = np.array(X).astype(\"float32\")\n",
    "X = X.T\n",
    "\n",
    "# Print dimensions\n",
    "print(\"Dimensions of face data set: {}.\".format(X.shape))"
   ]
  },
  {
   "cell_type": "code",
   "execution_count": 11,
   "metadata": {},
   "outputs": [
    {
     "data": {
      "image/png": "[encoded data removed]",
      "text/plain": [
       "<matplotlib.figure.Figure at 0x9db5550>"
      ]
     },
     "metadata": {},
     "output_type": "display_data"
    }
   ],
   "source": [
    "# Plot some examples\n",
    "fig, ax = plt.subplots(2, 5, figsize=(12, 4))\n",
    "ax = ax.flatten()\n",
    "for i_example in range(len(ax)):\n",
    "    ax[i_example].imshow(X[:, i_example*10].reshape((sz)), cmap=\"gray\")\n",
    "    ax[i_example].set_xticks([], [])\n",
    "    ax[i_example].set_yticks([], [])"
   ]
  },
  {
   "cell_type": "code",
   "execution_count": 12,
   "metadata": {
    "collapsed": true
   },
   "outputs": [],
   "source": [
    "# Standardise data to zero mean and unit variance. We are doing this manually here as we need \n",
    "# mu and sigma to revert this operation (add mu, multiply by sigma) when \n",
    "# visualizing the resulting reconstructed faces. \n",
    "\n",
    "mu = X.mean(axis=1)\n",
    "sigma = X.std(axis=1)\n",
    "\n",
    "X -= np.expand_dims(mu, 1)\n",
    "X /= np.expand_dims(sigma, 1)"
   ]
  },
  {
   "cell_type": "code",
   "execution_count": 13,
   "metadata": {},
   "outputs": [
    {
     "name": "stdout",
     "output_type": "stream",
     "text": [
      "Dimensions training inputs: (768L, 100L)\n",
      "Dimensions validation inputs: (768L, 40L)\n",
      "Dimensions testing inputs: (768L, 25L)\n"
     ]
    }
   ],
   "source": [
    "# Split dataset in training, validation, and testing split\n",
    "X_train = X[:, :100]\n",
    "X_val = X[:, 100:140]\n",
    "X_test = X[:, 140:]\n",
    "\n",
    "# Print dimensions\n",
    "print(\"Dimensions training inputs: {}\".format(X_train.shape))\n",
    "print(\"Dimensions validation inputs: {}\".format(X_val.shape))\n",
    "print(\"Dimensions testing inputs: {}\".format(X_test.shape))"
   ]
  },
  {
   "cell_type": "markdown",
   "metadata": {},
   "source": [
    "### Exercise 7: Running autoencoder training (0.5 points)\n",
    "\n",
    "Run the autoencoder with $n_h=30$ hidden units, a learning rate $\\eta=10^{-5}$ and for 2000 epochs. Plot the obtained training and validation losses again."
   ]
  },
  {
   "cell_type": "markdown",
   "metadata": {},
   "source": [
    "### Solution 7"
   ]
  },
  {
   "cell_type": "code",
   "execution_count": 14,
   "metadata": {},
   "outputs": [
    {
     "name": "stdout",
     "output_type": "stream",
     "text": [
      "(768L, 165L)\n",
      "Epoch 1/2000. Train loss: 4.42234488709. Validation loss: 8.03146728648.\n",
      "Epoch 51/2000. Train loss: 3.03069164525. Validation loss: 7.42742043477.\n",
      "Epoch 101/2000. Train loss: 2.35284304174. Validation loss: 6.85093042823.\n",
      "Epoch 151/2000. Train loss: 1.8945075695. Validation loss: 6.25819491932.\n",
      "Epoch 201/2000. Train loss: 1.57070028108. Validation loss: 5.82436330618.\n",
      "Epoch 251/2000. Train loss: 1.38015285851. Validation loss: 5.59670890319.\n",
      "Epoch 301/2000. Train loss: 1.25326234373. Validation loss: 5.4668185125.\n",
      "Epoch 351/2000. Train loss: 1.1506294358. Validation loss: 5.3678850827.\n",
      "Epoch 401/2000. Train loss: 1.06272763537. Validation loss: 5.28159327867.\n",
      "Epoch 451/2000. Train loss: 0.987820897401. Validation loss: 5.20595847601.\n",
      "Epoch 501/2000. Train loss: 0.924913166836. Validation loss: 5.13822710169.\n",
      "Epoch 551/2000. Train loss: 0.872540139384. Validation loss: 5.07809574975.\n",
      "Epoch 601/2000. Train loss: 0.828709244474. Validation loss: 5.02509578836.\n",
      "Epoch 651/2000. Train loss: 0.791212707437. Validation loss: 4.97771219848.\n",
      "Epoch 701/2000. Train loss: 0.758341472123. Validation loss: 4.93453301626.\n",
      "Epoch 751/2000. Train loss: 0.729039091258. Validation loss: 4.89492628165.\n",
      "Epoch 801/2000. Train loss: 0.702618630318. Validation loss: 4.85866615821.\n",
      "Epoch 851/2000. Train loss: 0.67859253447. Validation loss: 4.82529317902.\n",
      "Epoch 901/2000. Train loss: 0.656548301533. Validation loss: 4.79433764482.\n",
      "Epoch 951/2000. Train loss: 0.636288500314. Validation loss: 4.76558166868.\n",
      "Epoch 1001/2000. Train loss: 0.617648888743. Validation loss: 4.73906471222.\n",
      "Epoch 1051/2000. Train loss: 0.600424234768. Validation loss: 4.71421158817.\n",
      "Epoch 1101/2000. Train loss: 0.584481478426. Validation loss: 4.69038686015.\n",
      "Epoch 1151/2000. Train loss: 0.569712392581. Validation loss: 4.66811946993.\n",
      "Epoch 1201/2000. Train loss: 0.556004731079. Validation loss: 4.64730251484.\n",
      "Epoch 1251/2000. Train loss: 0.543207840722. Validation loss: 4.62778318657.\n",
      "Epoch 1301/2000. Train loss: 0.531199471506. Validation loss: 4.60959821961.\n",
      "Epoch 1351/2000. Train loss: 0.519965969283. Validation loss: 4.59266320262.\n",
      "Epoch 1401/2000. Train loss: 0.509464724692. Validation loss: 4.57686353052.\n",
      "Epoch 1451/2000. Train loss: 0.499598184013. Validation loss: 4.56214764493.\n",
      "Epoch 1501/2000. Train loss: 0.490312739952. Validation loss: 4.54857096332.\n",
      "Epoch 1551/2000. Train loss: 0.481554941581. Validation loss: 4.53596291749.\n",
      "Epoch 1601/2000. Train loss: 0.473276797764. Validation loss: 4.52415541658.\n",
      "Epoch 1651/2000. Train loss: 0.465433433306. Validation loss: 4.5130451808.\n",
      "Epoch 1701/2000. Train loss: 0.457979820937. Validation loss: 4.50261515451.\n",
      "Epoch 1751/2000. Train loss: 0.450868089975. Validation loss: 4.49278396221.\n",
      "Epoch 1801/2000. Train loss: 0.444072818955. Validation loss: 4.48340276649.\n",
      "Epoch 1851/2000. Train loss: 0.437570361759. Validation loss: 4.47423101369.\n",
      "Epoch 1901/2000. Train loss: 0.431348589945. Validation loss: 4.46561698411.\n",
      "Epoch 1951/2000. Train loss: 0.425372122831. Validation loss: 4.45738315098.\n"
     ]
    },
    {
     "data": {
      "image/png": "[encoded data removed]",
      "text/plain": [
       "<matplotlib.figure.Figure at 0x9d98908>"
      ]
     },
     "metadata": {},
     "output_type": "display_data"
    }
   ],
   "source": [
    "# Train the network\n",
    "W1, W2, train_loss, val_loss = train_network(X_train, X_val)\n",
    "\n",
    "# Plot the training and validation losses\n",
    "plt.figure()\n",
    "plt.plot(xrange(2000), train_loss, label = \"train_loss\")\n",
    "plt.plot(xrange(2000), val_loss, label = \"val_loss\")\n",
    "plt.legend()\n",
    "plt.show()"
   ]
  },
  {
   "cell_type": "markdown",
   "metadata": {},
   "source": [
    "### Exercise 8: Reconstruction (1 point)\n",
    "\n",
    "Choose 5 faces from the set, and plot their original and their reconstructed image side-by-side. That is, plot a chosen face and the output your trained autoencoder (represented by the weights) creates for it.\n",
    "\n",
    "Use [`np.reshape`](https://docs.scipy.org/doc/numpy-1.13.0/reference/generated/numpy.reshape.html) to reshape pixel values for the input and output images to their original dimensions `sz` in a 2D array. Then make use of [`plt.imshow()`](https://matplotlib.org/devdocs/api/_as_gen/matplotlib.pyplot.imshow.html) with a `gray` colormap to show the faces. \n",
    "\n",
    "You need to revert the scaling operation by multiplying by `sigma` and adding the `mean` (both previously computed) on each `x` and `y`. (If you don't, your real and reconstructed images will be off, e.g. too dark.)"
   ]
  },
  {
   "cell_type": "markdown",
   "metadata": {},
   "source": [
    "### Solution 8"
   ]
  },
  {
   "cell_type": "code",
   "execution_count": 19,
   "metadata": {},
   "outputs": [
    {
     "data": {
      "image/png": "[encoded data removed]",
      "text/plain": [
       "<matplotlib.figure.Figure at 0xea55128>"
      ]
     },
     "metadata": {},
     "output_type": "display_data"
    }
   ],
   "source": [
    "fig, ax = plt.subplots(5,2, figsize=(4, 12))\n",
    "ax = ax.flatten()\n",
    "for i_example in range(len(ax)):\n",
    "    A1, H, Y = forward(X[:, i_example*10], W1, W2)\n",
    "    ax[i_example].imshow((sigma*X[:, i_example*10]+mu).reshape((sz)), cmap=\"gray\")\n",
    "    ax[i_example].imshow((sigma*Y+mu).reshape((sz)), cmap=\"gray\")\n",
    "    ax[i_example].set_xticks([], [])\n",
    "    ax[i_example].set_yticks([], [])"
   ]
  },
  {
   "cell_type": "markdown",
   "metadata": {
    "collapsed": true
   },
   "source": [
    "### Exercise 9: Weights and receptive fields (1 point)\n",
    "We can visualize what was learned during classification and by the autoencoder. During training, the hidden units have become pattern detectors that you can interpret as *receptive fields*. \n",
    "\n",
    "You should visualize both `W1` and `W2`. To visualize the learned pattern of a single unit $i$, use [`np.reshape`](https://docs.scipy.org/doc/numpy-1.13.0/reference/generated/numpy.reshape.html) to reshape the weights leading from all image pixels to unit $i$ into a 2D array. Then make use of [`plt.imshow()`](https://matplotlib.org/devdocs/api/_as_gen/matplotlib.pyplot.imshow.html) with a `gray` colormap to show the learned pattern."
   ]
  },
  {
   "cell_type": "markdown",
   "metadata": {},
   "source": [
    "### Solution 9"
   ]
  },
  {
   "cell_type": "code",
   "execution_count": 20,
   "metadata": {},
   "outputs": [
    {
     "data": {
      "image/png": "[encoded data removed]",
      "text/plain": [
       "<matplotlib.figure.Figure at 0xf611470>"
      ]
     },
     "metadata": {},
     "output_type": "display_data"
    },
    {
     "ename": "ValueError",
     "evalue": "cannot reshape array of size 30 into shape (24,32)",
     "output_type": "error",
     "traceback": [
      "\u001b[1;31m---------------------------------------------------------------------------\u001b[0m",
      "\u001b[1;31mValueError\u001b[0m                                Traceback (most recent call last)",
      "\u001b[1;32m<ipython-input-20-0987005a436f>\u001b[0m in \u001b[0;36m<module>\u001b[1;34m()\u001b[0m\n\u001b[0;32m      6\u001b[0m     \u001b[0mplt\u001b[0m\u001b[1;33m.\u001b[0m\u001b[0mshow\u001b[0m\u001b[1;33m(\u001b[0m\u001b[1;33m)\u001b[0m\u001b[1;33m\u001b[0m\u001b[0m\n\u001b[0;32m      7\u001b[0m \u001b[1;31m# Visualize W2\u001b[0m\u001b[1;33m\u001b[0m\u001b[1;33m\u001b[0m\u001b[0m\n\u001b[1;32m----> 8\u001b[1;33m     \u001b[0mplt\u001b[0m\u001b[1;33m.\u001b[0m\u001b[0mimshow\u001b[0m\u001b[1;33m(\u001b[0m\u001b[0mW2\u001b[0m\u001b[1;33m[\u001b[0m\u001b[0mi\u001b[0m\u001b[1;33m,\u001b[0m\u001b[1;33m:\u001b[0m\u001b[1;33m]\u001b[0m\u001b[1;33m.\u001b[0m\u001b[0mreshape\u001b[0m\u001b[1;33m(\u001b[0m\u001b[0msz\u001b[0m\u001b[1;33m)\u001b[0m\u001b[1;33m,\u001b[0m \u001b[0mcmap\u001b[0m\u001b[1;33m=\u001b[0m\u001b[1;34m\"gray\"\u001b[0m\u001b[1;33m)\u001b[0m\u001b[1;33m\u001b[0m\u001b[0m\n\u001b[0m\u001b[0;32m      9\u001b[0m     \u001b[0mply\u001b[0m\u001b[1;33m.\u001b[0m\u001b[0mshow\u001b[0m\u001b[1;33m(\u001b[0m\u001b[1;33m)\u001b[0m\u001b[1;33m\u001b[0m\u001b[0m\n\u001b[0;32m     10\u001b[0m \u001b[1;31m#hoi pleun, klopt niet want hier moeten 2X 30 faces uit komen maar Elena en ik weten t niet :(\u001b[0m\u001b[1;33m\u001b[0m\u001b[1;33m\u001b[0m\u001b[0m\n",
      "\u001b[1;31mValueError\u001b[0m: cannot reshape array of size 30 into shape (24,32)"
     ]
    }
   ],
   "source": [
    "nhidden = 30\n",
    "for i in range(nhidden):\n",
    "\n",
    "# Visualize W1\n",
    "    plt.imshow(W1[i].reshape(sz), cmap=\"gray\")\n",
    "    plt.show()\n",
    "# Visualize W2\n",
    "    plt.imshow(W2[i,:].reshape(sz), cmap=\"gray\")\n",
    "    ply.show()\n",
    "#hoi pleun, klopt niet want hier moeten 2X 30 faces uit komen maar Elena en ik weten t niet :("
   ]
  },
  {
   "cell_type": "code",
   "execution_count": null,
   "metadata": {
    "collapsed": true
   },
   "outputs": [],
   "source": []
  }
 ],
 "metadata": {
  "anaconda-cloud": {},
  "kernelspec": {
   "display_name": "Python 2",
   "language": "python",
   "name": "python2"
  },
  "language_info": {
   "codemirror_mode": {
    "name": "ipython",
    "version": 2
   },
   "file_extension": ".py",
   "mimetype": "text/x-python",
   "name": "python",
   "nbconvert_exporter": "python",
   "pygments_lexer": "ipython2",
   "version": "2.7.13"
  }
 },
 "nbformat": 4,
 "nbformat_minor": 2
}
